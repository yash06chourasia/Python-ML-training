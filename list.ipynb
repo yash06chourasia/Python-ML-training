{
 "cells": [
  {
   "cell_type": "code",
   "execution_count": 1,
   "id": "9787c8ac",
   "metadata": {},
   "outputs": [
    {
     "name": "stdout",
     "output_type": "stream",
     "text": [
      "<class 'list'>\n"
     ]
    }
   ],
   "source": [
    "empty_list=[]\n",
    "empty_list=list()\n",
    "print(type(empty_list))"
   ]
  },
  {
   "cell_type": "code",
   "execution_count": 14,
   "id": "693682da",
   "metadata": {},
   "outputs": [
    {
     "name": "stdout",
     "output_type": "stream",
     "text": [
      "[1, 2, 'Hello', 3.9]\n"
     ]
    }
   ],
   "source": [
    "list=[1,2,'Hello',3.9]\n",
    "print(list)"
   ]
  },
  {
   "cell_type": "code",
   "execution_count": 21,
   "id": "3321b652",
   "metadata": {},
   "outputs": [
    {
     "name": "stdout",
     "output_type": "stream",
     "text": [
      "[1, 2, ['Hello', 'Hi', 1.23], 3.9]\n",
      "['Hello', 'Hi', 1.23]\n",
      "3.9\n",
      "[2, 3.9]\n",
      "[3.9, ['Hello', 'Hi', 1.23], 2, 1]\n"
     ]
    }
   ],
   "source": [
    "list=[1,2,['Hello','Hi',1.23],3.9]\n",
    "print(list)\n",
    "print(list[2])\n",
    "print(list[-1])\n",
    "print(list[1:4:2])  #Slicing\n",
    "print(list[::-1])"
   ]
  },
  {
   "cell_type": "code",
   "execution_count": 2,
   "id": "f8543699",
   "metadata": {},
   "outputs": [
    {
     "name": "stdout",
     "output_type": "stream",
     "text": [
      "[0, 1, 2, 3, 4, 5, 6, 7, 8, 9, 10]\n",
      "[9, 10, [11, 12, 13, 14, 15]]\n"
     ]
    }
   ],
   "source": [
    "list=[1,3,4,6,6]\n",
    "list[-2]=5\n",
    "list.append(7)\n",
    "list.insert(1,2)\n",
    "list.insert(10,8)\n",
    "list.insert(-10,0)\n",
    "l2=[9,10]\n",
    "l3=[11,12,13,14,15]\n",
    "list.extend(l2)\n",
    "l2.append(l3)\n",
    "print(list)\n",
    "print(l2)"
   ]
  },
  {
   "cell_type": "code",
   "execution_count": 3,
   "id": "d15f9cc7",
   "metadata": {},
   "outputs": [
    {
     "name": "stdout",
     "output_type": "stream",
     "text": [
      "1 2 3 4 5 7 6 8 "
     ]
    }
   ],
   "source": [
    "list=[1,2,3,4,5,7,6,8]\n",
    "for i in range(len(list)):\n",
    "    print(list[i],end=\" \")"
   ]
  },
  {
   "cell_type": "markdown",
   "id": "22ee1614",
   "metadata": {},
   "source": [
    "WAP which will print count of all the even and odd number in a given list"
   ]
  },
  {
   "cell_type": "code",
   "execution_count": 5,
   "id": "f57bcf74",
   "metadata": {},
   "outputs": [
    {
     "name": "stdout",
     "output_type": "stream",
     "text": [
      "even 4 odd 5\n"
     ]
    }
   ],
   "source": [
    "list=[1,2,3,4,5,6,7,8,9]\n",
    "even=0\n",
    "odd=0\n",
    "for i in range(len(list)):\n",
    "    if(list[i]%2==0):\n",
    "        even+=1\n",
    "    else:\n",
    "        odd+=1\n",
    "print(\"even\", even ,\"odd\",odd)"
   ]
  },
  {
   "cell_type": "markdown",
   "id": "6fd1c663",
   "metadata": {},
   "source": [
    "WAP to convert even digit to string even and if digit is odd then add 5 to it"
   ]
  },
  {
   "cell_type": "code",
   "execution_count": 40,
   "id": "02b2a736",
   "metadata": {},
   "outputs": [
    {
     "name": "stdout",
     "output_type": "stream",
     "text": [
      "[6, 'Even', 8, 'Even', 10, 'Even', 12, 'Even', 14]\n"
     ]
    }
   ],
   "source": [
    "list=[1,2,3,4,5,6,7,8,9]\n",
    "for i in range(len(list)):\n",
    "    if(list[i]%2==0):\n",
    "        list[i]=\"Even\"\n",
    "    else:\n",
    "        list[i]+=5\n",
    "print(list)"
   ]
  }
 ],
 "metadata": {
  "kernelspec": {
   "display_name": "Python 3",
   "language": "python",
   "name": "python3"
  },
  "language_info": {
   "codemirror_mode": {
    "name": "ipython",
    "version": 3
   },
   "file_extension": ".py",
   "mimetype": "text/x-python",
   "name": "python",
   "nbconvert_exporter": "python",
   "pygments_lexer": "ipython3",
   "version": "3.13.2"
  }
 },
 "nbformat": 4,
 "nbformat_minor": 5
}
