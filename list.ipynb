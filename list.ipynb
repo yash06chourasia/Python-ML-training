{
 "cells": [
  {
   "cell_type": "code",
   "execution_count": 1,
   "id": "9787c8ac",
   "metadata": {},
   "outputs": [
    {
     "name": "stdout",
     "output_type": "stream",
     "text": [
      "<class 'list'>\n"
     ]
    }
   ],
   "source": [
    "empty_list=[]\n",
    "empty_list=list()\n",
    "print(type(empty_list))"
   ]
  },
  {
   "cell_type": "code",
   "execution_count": 14,
   "id": "693682da",
   "metadata": {},
   "outputs": [
    {
     "name": "stdout",
     "output_type": "stream",
     "text": [
      "[1, 2, 'Hello', 3.9]\n"
     ]
    }
   ],
   "source": [
    "list=[1,2,'Hello',3.9]\n",
    "print(list)"
   ]
  },
  {
   "cell_type": "code",
   "execution_count": 21,
   "id": "3321b652",
   "metadata": {},
   "outputs": [
    {
     "name": "stdout",
     "output_type": "stream",
     "text": [
      "[1, 2, ['Hello', 'Hi', 1.23], 3.9]\n",
      "['Hello', 'Hi', 1.23]\n",
      "3.9\n",
      "[2, 3.9]\n",
      "[3.9, ['Hello', 'Hi', 1.23], 2, 1]\n"
     ]
    }
   ],
   "source": [
    "list=[1,2,['Hello','Hi',1.23],3.9]\n",
    "print(list)\n",
    "print(list[2])\n",
    "print(list[-1])\n",
    "print(list[1:4:2])  #Slicing\n",
    "print(list[::-1])"
   ]
  },
  {
   "cell_type": "code",
   "execution_count": 2,
   "id": "f8543699",
   "metadata": {},
   "outputs": [
    {
     "name": "stdout",
     "output_type": "stream",
     "text": [
      "[0, 1, 2, 3, 4, 5, 6, 7, 8, 9, 10]\n",
      "[9, 10, [11, 12, 13, 14, 15]]\n"
     ]
    }
   ],
   "source": [
    "list=[1,3,4,6,6]\n",
    "list[-2]=5\n",
    "list.append(7)\n",
    "list.insert(1,2)\n",
    "list.insert(10,8)\n",
    "list.insert(-10,0)\n",
    "l2=[9,10]\n",
    "l3=[11,12,13,14,15]\n",
    "list.extend(l2)\n",
    "l2.append(l3)\n",
    "print(list)\n",
    "print(l2)"
   ]
  },
  {
   "cell_type": "code",
   "execution_count": 3,
   "id": "d15f9cc7",
   "metadata": {},
   "outputs": [
    {
     "name": "stdout",
     "output_type": "stream",
     "text": [
      "1 2 3 4 5 7 6 8 "
     ]
    }
   ],
   "source": [
    "list=[1,2,3,4,5,7,6,8]\n",
    "for i in range(len(list)):\n",
    "    print(list[i],end=\" \")"
   ]
  },
  {
   "cell_type": "markdown",
   "id": "22ee1614",
   "metadata": {},
   "source": [
    "WAP which will print count of all the even and odd number in a given list"
   ]
  },
  {
   "cell_type": "code",
   "execution_count": 5,
   "id": "f57bcf74",
   "metadata": {},
   "outputs": [
    {
     "name": "stdout",
     "output_type": "stream",
     "text": [
      "even 4 odd 5\n"
     ]
    }
   ],
   "source": [
    "list=[1,2,3,4,5,6,7,8,9]\n",
    "even=0\n",
    "odd=0\n",
    "for i in range(len(list)):\n",
    "    if(list[i]%2==0):\n",
    "        even+=1\n",
    "    else:\n",
    "        odd+=1\n",
    "print(\"even\", even ,\"odd\",odd)"
   ]
  },
  {
   "cell_type": "markdown",
   "id": "6fd1c663",
   "metadata": {},
   "source": [
    "WAP to convert even digit to string even and if digit is odd then add 5 to it"
   ]
  },
  {
   "cell_type": "code",
   "execution_count": 40,
   "id": "02b2a736",
   "metadata": {},
   "outputs": [
    {
     "name": "stdout",
     "output_type": "stream",
     "text": [
      "[6, 'Even', 8, 'Even', 10, 'Even', 12, 'Even', 14]\n"
     ]
    }
   ],
   "source": [
    "list=[1,2,3,4,5,6,7,8,9]\n",
    "for i in range(len(list)):\n",
    "    if(list[i]%2==0):\n",
    "        list[i]=\"Even\"\n",
    "    else:\n",
    "        list[i]+=5\n",
    "print(list)"
   ]
  },
  {
   "cell_type": "markdown",
   "id": "882d3c24",
   "metadata": {},
   "source": [
    "Delete,pop and remove method in a list "
   ]
  },
  {
   "cell_type": "code",
   "execution_count": 2,
   "id": "80dd8a68",
   "metadata": {},
   "outputs": [
    {
     "name": "stdout",
     "output_type": "stream",
     "text": [
      "[1, 2, 3, 4, 5, 6, 7, 8, 9]\n",
      "[1, 2, 3, 5, 6, 7, 8, 9]\n",
      "4\n",
      "[2, 1, 1, 2, 3]\n",
      "[10, 7, [1, 1], 12, 9]\n"
     ]
    }
   ],
   "source": [
    "lst=[1,2,3,13,4,5,6,7,8,9]\n",
    "del(lst[3]) #del(listname[<index>]) if index not specified than entire list is deleted\n",
    "print(lst)\n",
    "# del(lst)     \n",
    "# print(lst)   to delete complete list\n",
    "a=lst.pop(3)  #listname.pop(<index>) if index not specified than last index element is popped out\n",
    "print(lst)\n",
    "print(a)\n",
    "#remove the first occurence of a given item from list\n",
    "l=[1,2,1,1,2,3]\n",
    "l.remove(1)   #listname.remove(element) will remove first occurence of the element if element not exist than it will show error\n",
    "print(l)\n",
    "m=[10,7,[1,1],12,1,9]\n",
    "m.remove(1)\n",
    "print(m)"
   ]
  },
  {
   "cell_type": "code",
   "execution_count": 15,
   "id": "96b23364",
   "metadata": {},
   "outputs": [
    {
     "name": "stdout",
     "output_type": "stream",
     "text": [
      "2\n",
      "0\n"
     ]
    }
   ],
   "source": [
    "n=[1,2,3,4,5,6,7,3,4]\n",
    "print(n.count(3))\n",
    "print(n.count(21))"
   ]
  },
  {
   "cell_type": "code",
   "execution_count": null,
   "id": "2adf7c2d",
   "metadata": {},
   "outputs": [
    {
     "name": "stdout",
     "output_type": "stream",
     "text": [
      "[5, 4, 3, 2, 1]\n",
      "[5, 4, 3, 2, 1]\n"
     ]
    }
   ],
   "source": [
    "n=[1,2,3,4,5]\n",
    "n.reverse()  #It actually reverses the list\n",
    "print(n)\n",
    "n[::-1]  #Slicing does not change list but give list element in reverse format\n",
    "print(n)"
   ]
  },
  {
   "cell_type": "code",
   "execution_count": 22,
   "id": "50105103",
   "metadata": {},
   "outputs": [
    {
     "name": "stdout",
     "output_type": "stream",
     "text": [
      "2\n"
     ]
    }
   ],
   "source": [
    "l=[2,4,3,1,3,5]\n",
    "print(l.index(3))"
   ]
  },
  {
   "cell_type": "markdown",
   "id": "7fcfe941",
   "metadata": {},
   "source": [
    "WAP to swap the adjacent elements of the list"
   ]
  },
  {
   "cell_type": "code",
   "execution_count": 28,
   "id": "3ad5c688",
   "metadata": {},
   "outputs": [
    {
     "name": "stdout",
     "output_type": "stream",
     "text": [
      "[5, 3, 9, 7, 8, 2, 15, 11, 14, 12]\n"
     ]
    }
   ],
   "source": [
    "list=[3,5,7,9,2,8,11,15,12,14]\n",
    "for i in range(len(list)-1):\n",
    "    if(i%2==0):\n",
    "        list[i],list[i+1]=list[i+1],list[i]\n",
    "print(list)"
   ]
  },
  {
   "cell_type": "markdown",
   "id": "561d461b",
   "metadata": {},
   "source": [
    "WAP which will print largest element of the list"
   ]
  },
  {
   "cell_type": "code",
   "execution_count": 30,
   "id": "a8a3f98d",
   "metadata": {},
   "outputs": [
    {
     "name": "stdout",
     "output_type": "stream",
     "text": [
      "16\n"
     ]
    }
   ],
   "source": [
    "list=[3,5,7,9,2,16,8,11,15,12,14]\n",
    "max=list[0]\n",
    "for i in range(len(list)):\n",
    "    if(list[i]>max):\n",
    "        max=list[i]\n",
    "print(max)"
   ]
  },
  {
   "cell_type": "markdown",
   "id": "e8a591da",
   "metadata": {},
   "source": [
    "WAP to find maximum even and maximum odd"
   ]
  },
  {
   "cell_type": "code",
   "execution_count": 35,
   "id": "875be544",
   "metadata": {},
   "outputs": [
    {
     "name": "stdout",
     "output_type": "stream",
     "text": [
      "Even maximum 16 Odd Maximum 29\n"
     ]
    }
   ],
   "source": [
    "list=[3,5,7,9,2,16,8,11,15,29,12,14]\n",
    "emax=omax=list[0]\n",
    "for i in range(len(list)):\n",
    "    if(list[i]%2==0):\n",
    "        if(list[i]>emax):\n",
    "            emax=list[i]\n",
    "    else:\n",
    "        if(list[i]>omax):\n",
    "            omax=list[i]\n",
    "\n",
    "print(\"Even maximum\",emax,\"Odd Maximum\",omax)"
   ]
  },
  {
   "cell_type": "markdown",
   "id": "56916db8",
   "metadata": {},
   "source": [
    "WAP to find Second maximum number from list"
   ]
  },
  {
   "cell_type": "code",
   "execution_count": 74,
   "id": "a2d9d1f1",
   "metadata": {},
   "outputs": [
    {
     "name": "stdout",
     "output_type": "stream",
     "text": [
      "Maximum number is 78\n",
      "Second Maximum number is 64\n"
     ]
    }
   ],
   "source": [
    "list=[12,4,64,78,9,5,23,5,6]\n",
    "if(list[1]>list[0]):\n",
    "    max=list[1]\n",
    "    smax=list[0]\n",
    "else:\n",
    "    max=list[0]\n",
    "    smax=list[1]\n",
    "for i in range(2,len(list),1):\n",
    "    if(list[i]>max):\n",
    "        smax=max\n",
    "        max=list[i]\n",
    "    elif(list[i]>smax):\n",
    "        smax=list[i]\n",
    "print(\"Maximum number is\",max)\n",
    "print(\"Second Maximum number is\",smax)\n",
    "\n",
    "\n"
   ]
  },
  {
   "cell_type": "markdown",
   "id": "48fce714",
   "metadata": {},
   "source": [
    "WAP to find leaders of the list"
   ]
  },
  {
   "cell_type": "code",
   "execution_count": 121,
   "id": "e54c5ae1",
   "metadata": {},
   "outputs": [
    {
     "name": "stdout",
     "output_type": "stream",
     "text": [
      "[30, 28, 25, 12, 11]\n"
     ]
    }
   ],
   "source": [
    "list=[30,28,11,25,12,10,9,11]\n",
    "new=[]\n",
    "max=list[len(list)-1]\n",
    "for i in range(-1,-(len(list)+1),-1):\n",
    "    if(list[i]>=max):\n",
    "        new.append(list[i])\n",
    "        max=list[i]\n",
    "new.reverse()\n",
    "print(new)\n"
   ]
  },
  {
   "cell_type": "markdown",
   "id": "a5b7191b",
   "metadata": {},
   "source": [
    "WAP to make new list which contains square of the elements existing in a given list"
   ]
  },
  {
   "cell_type": "code",
   "execution_count": 120,
   "id": "bd45d9a5",
   "metadata": {},
   "outputs": [
    {
     "name": "stdout",
     "output_type": "stream",
     "text": [
      "[9, 25, 49, 4, 64, 81]\n"
     ]
    }
   ],
   "source": [
    "list=[3,5,7,2,8,9]\n",
    "list1=[]\n",
    "for i in range(len(list)):\n",
    "    list1.append(list[i]*list[i])\n",
    "print(list1)"
   ]
  },
  {
   "cell_type": "markdown",
   "id": "9045946f",
   "metadata": {},
   "source": [
    "WAP to get the sum of factors of a number if present in the list"
   ]
  },
  {
   "cell_type": "code",
   "execution_count": 6,
   "id": "71233889",
   "metadata": {},
   "outputs": [
    {
     "name": "stdout",
     "output_type": "stream",
     "text": [
      "8\n"
     ]
    }
   ],
   "source": [
    "list=[1,2,3,4,5,6]\n",
    "num=10\n",
    "sum=0\n",
    "for i in range(1,num+1,1):\n",
    "    if(num%i==0 and i in list):\n",
    "        sum+=i\n",
    "\n",
    "print(sum)\n"
   ]
  },
  {
   "cell_type": "markdown",
   "id": "5b59156f",
   "metadata": {},
   "source": [
    "WAP to show list comprehension"
   ]
  },
  {
   "cell_type": "code",
   "execution_count": 129,
   "id": "61a4fc07",
   "metadata": {},
   "outputs": [
    {
     "name": "stdout",
     "output_type": "stream",
     "text": [
      "[1, 4, 9, 16, 25]\n"
     ]
    }
   ],
   "source": [
    "list=[1,2,3,4,5]\n",
    "l1=[i**2 for i in list]\n",
    "print(l1)"
   ]
  },
  {
   "cell_type": "markdown",
   "id": "b10c0aae",
   "metadata": {},
   "source": [
    "WAP to split negative and positive values into two different list using list comprehension"
   ]
  },
  {
   "cell_type": "code",
   "execution_count": 139,
   "id": "573240ea",
   "metadata": {},
   "outputs": [
    {
     "name": "stdout",
     "output_type": "stream",
     "text": [
      "[3, 5, 8, 12]\n",
      "[-7, -3, -18, -23]\n"
     ]
    }
   ],
   "source": [
    "l=[3,5,-7,8,-3,12,-18,-23]\n",
    "n=[i for i in l if i>0]\n",
    "p=[i for i in l if i<=0]\n",
    "print(n)\n",
    "print(p)\n"
   ]
  },
  {
   "cell_type": "markdown",
   "id": "9c0326be",
   "metadata": {},
   "source": [
    "min ,max ,sum method "
   ]
  },
  {
   "cell_type": "code",
   "execution_count": 1,
   "id": "f6b03e2e",
   "metadata": {},
   "outputs": [
    {
     "name": "stdout",
     "output_type": "stream",
     "text": [
      "1\n",
      "8\n",
      "36\n",
      "['Odd', 'Even', 'Odd', 'Even', 'Odd', 'Even', 'Odd', 'Even']\n"
     ]
    }
   ],
   "source": [
    "lst=[1,2,3,4,5,6,7,8]\n",
    "print(min(lst))\n",
    "print(max(lst))\n",
    "print(sum(lst))\n",
    "\n",
    "l=[\"Even\" if i%2==0 else \"Odd\" for i in lst]\n",
    "print(l)\n"
   ]
  },
  {
   "cell_type": "markdown",
   "id": "bdcfebf0",
   "metadata": {},
   "source": [
    "WAP to dispaly maximum of each sublist"
   ]
  },
  {
   "cell_type": "code",
   "execution_count": 4,
   "id": "7ebf2720",
   "metadata": {},
   "outputs": [
    {
     "name": "stdout",
     "output_type": "stream",
     "text": [
      "[9, 9, 8, 8]\n"
     ]
    }
   ],
   "source": [
    "lst=[[3,5,7,9],[8,2,5,9],[7,3,5,8],[8,3,2]]\n",
    "n=[max(i) for i in lst]\n",
    "print(n)"
   ]
  },
  {
   "cell_type": "markdown",
   "id": "f99f767d",
   "metadata": {},
   "source": [
    "WAP to find the sum of each odd elements of a sublist"
   ]
  },
  {
   "cell_type": "code",
   "execution_count": 31,
   "id": "5d657931",
   "metadata": {},
   "outputs": [
    {
     "name": "stdout",
     "output_type": "stream",
     "text": [
      "[24, 14, 15, 3]\n"
     ]
    }
   ],
   "source": [
    "lst=[[3,5,7,9],[8,2,5,9],[7,3,5,8],[8,3,2]]\n",
    "oddsumlist=[]\n",
    "for i in lst:\n",
    "   temp=0\n",
    "   for j in i:\n",
    "      if j%2!=0:\n",
    "         temp+=j\n",
    "   oddsumlist.append(temp)\n",
    "print(oddsumlist)"
   ]
  },
  {
   "cell_type": "markdown",
   "id": "fe6cfb4d",
   "metadata": {},
   "source": [
    "WAP to swap the even places of adjacent sublist"
   ]
  },
  {
   "cell_type": "code",
   "execution_count": 2,
   "id": "c09ba558",
   "metadata": {},
   "outputs": [
    {
     "name": "stdout",
     "output_type": "stream",
     "text": [
      "[[3, 5, 7, 9], [8, 2, 5, 9], [7, 3, 5, 8], [8, 3, 2, 6]]\n",
      "[[8, 5, 5, 9], [3, 2, 7, 9], [8, 3, 2, 8], [7, 3, 5, 6]]\n"
     ]
    }
   ],
   "source": [
    "lst=[[3,5,7,9],[8,2,5,9],[7,3,5,8],[8,3,2,6]]\n",
    "print(lst)\n",
    "for i in range(0,len(lst),2):\n",
    "    for j in range(0,len(lst[i])):\n",
    "        if(j%2==0):\n",
    "            lst[i][j],lst[i+1][j]=lst[i+1][j],lst[i][j]\n",
    "print(lst)\n",
    "            \n",
    "    "
   ]
  },
  {
   "cell_type": "code",
   "execution_count": null,
   "id": "5fa89cad",
   "metadata": {},
   "outputs": [],
   "source": []
  }
 ],
 "metadata": {
  "kernelspec": {
   "display_name": "Python 3",
   "language": "python",
   "name": "python3"
  },
  "language_info": {
   "codemirror_mode": {
    "name": "ipython",
    "version": 3
   },
   "file_extension": ".py",
   "mimetype": "text/x-python",
   "name": "python",
   "nbconvert_exporter": "python",
   "pygments_lexer": "ipython3",
   "version": "3.13.2"
  }
 },
 "nbformat": 4,
 "nbformat_minor": 5
}
