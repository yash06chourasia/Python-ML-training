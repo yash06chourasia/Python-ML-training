{
 "cells": [
  {
   "cell_type": "code",
   "execution_count": 5,
   "id": "08096879",
   "metadata": {},
   "outputs": [
    {
     "name": "stdout",
     "output_type": "stream",
     "text": [
      "Hello\n",
      "H\n",
      "o\n",
      "olleH\n",
      "<class 'str'>\n"
     ]
    }
   ],
   "source": [
    "x=\"Hello\"\n",
    "print(x)\n",
    "print(x[0])\n",
    "print(x[-1])\n",
    "print(x[::-1])\n",
    "print(type(x))"
   ]
  },
  {
   "cell_type": "code",
   "execution_count": null,
   "id": "96a7894e",
   "metadata": {},
   "outputs": [
    {
     "name": "stdout",
     "output_type": "stream",
     "text": [
      "nt a t\n",
      "e h\n",
      "n Python\n",
      "L'lrPh\n",
      "hn\n",
      "on\n"
     ]
    }
   ],
   "source": [
    "x=\"Let's learn Python\"\n",
    "print(x[::-3])\n",
    "print(x[7::4])\n",
    "print(x[10:])\n",
    "print(x[::3])\n",
    "print(x[-3:-10:-5])\n",
    "print(x[-2:])"
   ]
  },
  {
   "cell_type": "code",
   "execution_count": 20,
   "id": "c09f57f2",
   "metadata": {},
   "outputs": [
    {
     "data": {
      "text/plain": [
       "'Hello'"
      ]
     },
     "execution_count": 20,
     "metadata": {},
     "output_type": "execute_result"
    }
   ],
   "source": [
    "x=\"Hello\"\n",
    "x.upper()\n",
    "x.lower()\n",
    "x.isupper()\n",
    "x.islower()\n",
    "x.isalpha()\n",
    "x.isalnum()\n",
    "x.capitalize()"
   ]
  },
  {
   "cell_type": "code",
   "execution_count": 23,
   "id": "156a4d6b",
   "metadata": {},
   "outputs": [
    {
     "name": "stdout",
     "output_type": "stream",
     "text": [
      "['H', 'e', 'l', 'l', 'o', ' ', 'e', 'v', 'e', 'r', 'y', 'o', 'n', 'e']\n",
      "['Hello', 'everyone']\n"
     ]
    }
   ],
   "source": [
    "x=\"Hello everyone\"\n",
    "l=list(x)\n",
    "print(l)\n",
    "u=x.split()\n",
    "print(u)\n"
   ]
  },
  {
   "cell_type": "markdown",
   "id": "f8dd3030",
   "metadata": {},
   "source": [
    "WAP which take string as input from user and print longest word and its length"
   ]
  },
  {
   "cell_type": "code",
   "execution_count": 40,
   "id": "7b5bba8a",
   "metadata": {},
   "outputs": [
    {
     "name": "stdout",
     "output_type": "stream",
     "text": [
      "Longest word is hii\n",
      "Its length is 3\n"
     ]
    }
   ],
   "source": [
    "s=str(input(\"Enter String :\"))\n",
    "x=s.split()\n",
    "y=\"\"\n",
    "for i in x:\n",
    "    if(len(i)>len(y)):\n",
    "        y=i\n",
    "print(\"Longest word is\",y)\n",
    "print(\"Its length is\",len(y))\n",
    "\n"
   ]
  },
  {
   "cell_type": "code",
   "execution_count": 42,
   "id": "982de00f",
   "metadata": {},
   "outputs": [
    {
     "name": "stdout",
     "output_type": "stream",
     "text": [
      "apple banana apple guava apple\n",
      "kiwi banana kiwi guava kiwi\n"
     ]
    }
   ],
   "source": [
    "x=\"apple banana apple guava apple\"\n",
    "y=x.replace(\"apple\",\"kiwi\")\n",
    "print(x)\n",
    "print(y)"
   ]
  },
  {
   "cell_type": "markdown",
   "id": "8b339e62",
   "metadata": {},
   "source": [
    "WAP to comma and fullstop"
   ]
  },
  {
   "cell_type": "code",
   "execution_count": 52,
   "id": "467d7070",
   "metadata": {},
   "outputs": [
    {
     "name": "stdout",
     "output_type": "stream",
     "text": [
      "hello,everyone,How.are.you,\n"
     ]
    }
   ],
   "source": [
    "x=\"hello.everyone.How,are,you.\"\n",
    "x=x.replace(\".\",\"$\")\n",
    "x=x.replace(\",\",\".\")\n",
    "x=x.replace(\"$\",\",\")\n",
    "print(x)\n",
    "\n",
    "    "
   ]
  },
  {
   "cell_type": "markdown",
   "id": "9ae14bbb",
   "metadata": {},
   "source": [
    "WAP to check String is Palindrome"
   ]
  },
  {
   "cell_type": "code",
   "execution_count": null,
   "id": "b4f0a992",
   "metadata": {},
   "outputs": [
    {
     "name": "stdout",
     "output_type": "stream",
     "text": [
      "not a Palindrome\n"
     ]
    }
   ],
   "source": [
    "x=\"010\"\n",
    "y=x[::-1]\n",
    "if(x==y):\n",
    "    print(\"palindrome\")\n",
    "else:\n",
    "    print(\"not a Palindrome\")\n",
    "\n",
    "\n"
   ]
  }
 ],
 "metadata": {
  "kernelspec": {
   "display_name": "Python 3",
   "language": "python",
   "name": "python3"
  },
  "language_info": {
   "codemirror_mode": {
    "name": "ipython",
    "version": 3
   },
   "file_extension": ".py",
   "mimetype": "text/x-python",
   "name": "python",
   "nbconvert_exporter": "python",
   "pygments_lexer": "ipython3",
   "version": "3.13.2"
  }
 },
 "nbformat": 4,
 "nbformat_minor": 5
}
