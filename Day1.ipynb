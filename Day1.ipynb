{
 "cells": [
  {
   "cell_type": "code",
   "execution_count": 5,
   "id": "4001fb07",
   "metadata": {},
   "outputs": [
    {
     "name": "stdout",
     "output_type": "stream",
     "text": [
      "hello world\n"
     ]
    }
   ],
   "source": [
    "print(\"hello world\");"
   ]
  },
  {
   "cell_type": "code",
   "execution_count": 7,
   "id": "ae2310df",
   "metadata": {},
   "outputs": [
    {
     "name": "stdout",
     "output_type": "stream",
     "text": [
      "140721801528360 140721801528424 140721801528360\n",
      "140721801528360 2590440022128 140721801528360\n",
      "140721801528360 2590440022128 140721801528392\n"
     ]
    }
   ],
   "source": [
    "x=5\n",
    "y=7\n",
    "z=5\n",
    "print(id(x),id(y), id(z))\n",
    "y=\"Hello\"\n",
    "print(id(x),id(y), id(z))\n",
    "z=6\n",
    "print(id(x),id(y), id(z))"
   ]
  },
  {
   "cell_type": "markdown",
   "id": "f99ba889",
   "metadata": {},
   "source": [
    "Python stores same data value under same address and if we change the variable its address will also changed"
   ]
  },
  {
   "cell_type": "code",
   "execution_count": 8,
   "id": "9c4c80bd",
   "metadata": {},
   "outputs": [
    {
     "name": "stdout",
     "output_type": "stream",
     "text": [
      "Hello yash\n"
     ]
    }
   ],
   "source": [
    "name=input(\"Enter your name: \")\n",
    "print(\"Hello\", name)"
   ]
  },
  {
   "cell_type": "code",
   "execution_count": 5,
   "id": "58cb0165",
   "metadata": {},
   "outputs": [
    {
     "name": "stdout",
     "output_type": "stream",
     "text": [
      "Hello Yash you are 20 years old and your height is 6.2 in feets.\n"
     ]
    }
   ],
   "source": [
    "name=input(\"Enter your name: \")\n",
    "age=int(input(\"Enter your age: \"))\n",
    "height=float(input(\"Enter your height : \"))\n",
    "print(\"Hello\", name ,\"you are\",age,\"years old and your height is\",height,\"in feets.\")"
   ]
  },
  {
   "cell_type": "code",
   "execution_count": 7,
   "id": "028254bf",
   "metadata": {},
   "outputs": [
    {
     "name": "stdout",
     "output_type": "stream",
     "text": [
      "Hello Yash you are 18 years old and your height is 6.6896 in feets.\n"
     ]
    }
   ],
   "source": [
    "name=eval(input(\"Enter your name: \"))\n",
    "age=eval(input(\"Enter your age: \"))\n",
    "height=eval(input(\"Enter your height : \"))\n",
    "print(\"Hello\", name ,\"you are\",age,\"years old and your height is\",height,\"in feets.\")"
   ]
  },
  {
   "cell_type": "markdown",
   "id": "ef673464",
   "metadata": {},
   "source": [
    "WAP which take length and breadth of a rectangle and caculate area and perimeter of it\n"
   ]
  },
  {
   "cell_type": "code",
   "execution_count": 11,
   "id": "853542ef",
   "metadata": {},
   "outputs": [
    {
     "name": "stdout",
     "output_type": "stream",
     "text": [
      "Area is 1.5625 in cm square\n",
      "Perimeter is 5.0 in cm\n"
     ]
    }
   ],
   "source": [
    "l=eval(input(\"Enter length of rectangle in cm \"))\n",
    "w=eval(input(\"Enter width of rectangle in cm \"))\n",
    "area=l*w\n",
    "perimeter=2*(l+w)\n",
    "print(\"Area is\",area,\"in cm square\")\n",
    "print(\"Perimeter is\",perimeter,\"in cm\")"
   ]
  },
  {
   "cell_type": "markdown",
   "id": "7f36d9d3",
   "metadata": {},
   "source": [
    "WAP which take base and height of triangle and display its area\n"
   ]
  },
  {
   "cell_type": "code",
   "execution_count": 12,
   "id": "e4019694",
   "metadata": {},
   "outputs": [
    {
     "name": "stdout",
     "output_type": "stream",
     "text": [
      "Area is 50.0 in cm square\n"
     ]
    }
   ],
   "source": [
    "b=eval(input(\"Enter base of triangle in cm \"))\n",
    "h=eval(input(\"Enter height of triangle in cm \"))\n",
    "area=0.5*b*h\n",
    "print(\"Area is\",area,\"in cm square\")"
   ]
  },
  {
   "cell_type": "markdown",
   "id": "a5b574d6",
   "metadata": {},
   "source": [
    "WAP which will take age as input from user and print his eligiblity to vote\n"
   ]
  },
  {
   "cell_type": "code",
   "execution_count": 3,
   "id": "e6a686d3",
   "metadata": {},
   "outputs": [
    {
     "name": "stdout",
     "output_type": "stream",
     "text": [
      "Not eligible to vote\n"
     ]
    }
   ],
   "source": [
    "age=int(input(\"Enter your age : \"))\n",
    "if(age>=18):\n",
    "    print(\"Eligible to vote\")\n",
    "else:\n",
    "    print(\"Not eligible to vote\")\n",
    "\n"
   ]
  },
  {
   "cell_type": "markdown",
   "id": "83b4cbe4",
   "metadata": {},
   "source": [
    "WAP which take number as input from user and check whether it is positive , negative or zero"
   ]
  },
  {
   "cell_type": "code",
   "execution_count": 10,
   "id": "195d9f01",
   "metadata": {},
   "outputs": [
    {
     "name": "stdout",
     "output_type": "stream",
     "text": [
      "Positive\n"
     ]
    }
   ],
   "source": [
    "num=eval(input(\"Enter the number\"))\n",
    "if(num==0):\n",
    "    print(\"Zero\")\n",
    "elif(num>0):\n",
    "    print(\"Positive\")\n",
    "else:\n",
    "    print(\"Negative\")"
   ]
  },
  {
   "cell_type": "markdown",
   "id": "5b4d3068",
   "metadata": {},
   "source": [
    "WAP which take input age and determine phase like child ,teen ,Adult and senior"
   ]
  },
  {
   "cell_type": "code",
   "execution_count": 23,
   "id": "bb34cb97",
   "metadata": {},
   "outputs": [
    {
     "name": "stdout",
     "output_type": "stream",
     "text": [
      "Enter positive age\n"
     ]
    }
   ],
   "source": [
    "age=int(input(\"Enter your age : \"))\n",
    "if(age>45):\n",
    "    print(\"Senior\")\n",
    "elif(age>=20):\n",
    "    print(\"Adult\")\n",
    "elif(age>=13):\n",
    "    print(\"Teenage\")\n",
    "elif(age>0):\n",
    "    print(\"Child\")\n",
    "else:\n",
    "    print(\"Enter positive age\")"
   ]
  },
  {
   "cell_type": "markdown",
   "id": "f9493f43",
   "metadata": {},
   "source": [
    "1.WAP which take 3 numbers as input and print them into ascending order\n",
    "2.WAP which take number as input from user if number is divisible by 3 it print fizz 5 it print Buzz and if divisible by both print FizzBuzz and if not divisible by both print not divisible"
   ]
  }
 ],
 "metadata": {
  "kernelspec": {
   "display_name": "Python 3",
   "language": "python",
   "name": "python3"
  },
  "language_info": {
   "codemirror_mode": {
    "name": "ipython",
    "version": 3
   },
   "file_extension": ".py",
   "mimetype": "text/x-python",
   "name": "python",
   "nbconvert_exporter": "python",
   "pygments_lexer": "ipython3",
   "version": "3.13.2"
  }
 },
 "nbformat": 4,
 "nbformat_minor": 5
}
