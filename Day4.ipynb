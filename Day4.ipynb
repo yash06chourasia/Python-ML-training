{
 "cells": [
  {
   "cell_type": "markdown",
   "id": "adfc6cf8",
   "metadata": {},
   "source": [
    "WAP which add all number between 10 to 55 but it will skip all those number which are divisible by 3 or 5"
   ]
  },
  {
   "cell_type": "code",
   "execution_count": null,
   "id": "223cfca0",
   "metadata": {},
   "outputs": [
    {
     "name": "stdout",
     "output_type": "stream",
     "text": [
      "Sum is  765\n"
     ]
    }
   ],
   "source": [
    "sum=0\n",
    "for i in range(10,56,1):\n",
    "    if(i%3==0 or i%5==0):\n",
    "        continue\n",
    "    sum+=i\n",
    "print(\"Sum is \",sum)"
   ]
  },
  {
   "cell_type": "markdown",
   "id": "048f569c",
   "metadata": {},
   "source": [
    "WAP which will print multiplication of all the even and odd factor of a given number\n"
   ]
  },
  {
   "cell_type": "code",
   "execution_count": null,
   "id": "958cd8da",
   "metadata": {},
   "outputs": [
    {
     "name": "stdout",
     "output_type": "stream",
     "text": [
      "Even Multiplication  2\n",
      "Odd Multiplication  1\n"
     ]
    }
   ],
   "source": [
    "even=1\n",
    "odd=1\n",
    "n=int(input(\"Enter the number other than 1 as it is factor of every number :\"))\n",
    "for i in range(1,n+1,1):\n",
    "    if(n%i==0):\n",
    "        if(i%2==0):\n",
    "            even*=i\n",
    "        else:\n",
    "            odd*=i\n",
    "print(\"Even Multiplication \",even)\n",
    "print(\"Odd Multiplication \",odd)"
   ]
  }
 ],
 "metadata": {
  "kernelspec": {
   "display_name": "Python 3",
   "language": "python",
   "name": "python3"
  },
  "language_info": {
   "codemirror_mode": {
    "name": "ipython",
    "version": 3
   },
   "file_extension": ".py",
   "mimetype": "text/x-python",
   "name": "python",
   "nbconvert_exporter": "python",
   "pygments_lexer": "ipython3",
   "version": "3.13.2"
  }
 },
 "nbformat": 4,
 "nbformat_minor": 5
}
