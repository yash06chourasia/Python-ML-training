{
 "cells": [
  {
   "cell_type": "code",
   "execution_count": 2,
   "id": "c3aca765",
   "metadata": {},
   "outputs": [
    {
     "name": "stdout",
     "output_type": "stream",
     "text": [
      "Requirement already satisfied: numpy in d:\\python\\lib\\site-packages (2.3.1)\n"
     ]
    },
    {
     "name": "stderr",
     "output_type": "stream",
     "text": [
      "\n",
      "[notice] A new release of pip is available: 24.3.1 -> 25.1.1\n",
      "[notice] To update, run: python.exe -m pip install --upgrade pip\n"
     ]
    }
   ],
   "source": [
    "! pip install numpy"
   ]
  },
  {
   "cell_type": "code",
   "execution_count": 4,
   "id": "32794136",
   "metadata": {},
   "outputs": [],
   "source": [
    "import numpy as np"
   ]
  },
  {
   "cell_type": "markdown",
   "id": "d20bf88e",
   "metadata": {},
   "source": [
    "It is used to work with array .The array object in numpy is called ndarray"
   ]
  },
  {
   "cell_type": "code",
   "execution_count": 14,
   "id": "11f8a51c",
   "metadata": {},
   "outputs": [
    {
     "name": "stdout",
     "output_type": "stream",
     "text": [
      "[1.  2.  3.  4.6 5. ]\n",
      "<class 'numpy.ndarray'>\n",
      "[1 2 3 4 6 5]\n",
      "<class 'numpy.ndarray'>\n"
     ]
    }
   ],
   "source": [
    "x=np.array([1,2,3,4.6,5])\n",
    "y=np.array((1,2,3,4,6,5))\n",
    "# x array is treated as float array as a whole while y array is treated as integer array\n",
    "print(x)\n",
    "print(type(x))\n",
    "print(y)\n",
    "print(type(y))"
   ]
  },
  {
   "cell_type": "markdown",
   "id": "38b413be",
   "metadata": {},
   "source": [
    "Array function is ued to create array"
   ]
  },
  {
   "cell_type": "code",
   "execution_count": 23,
   "id": "f2219c1f",
   "metadata": {},
   "outputs": [
    {
     "name": "stdout",
     "output_type": "stream",
     "text": [
      "[0 1 2 3]\n",
      "[1 2 3 4]\n",
      "[1 3 5]\n",
      "[-10  -9  -8  -7  -6  -5]\n",
      "[]\n",
      "[10]\n"
     ]
    }
   ],
   "source": [
    "# numpy.arange(start,stop,step)\n",
    "a=np.arange(4)\n",
    "print(a)\n",
    "a=np.arange(1,5)\n",
    "print(a)\n",
    "a=np.arange(1,6,2)\n",
    "print(a)\n",
    "a=np.arange(-10,-4,1)\n",
    "print(a)\n",
    "a=np.arange(-10,-4,-1)\n",
    "# if start to end traversal is not possible than it will have empty array\n",
    "print(a)\n",
    "a=np.arange(10,-4,-20)\n",
    "# if start to end traversal is possible but after step it goes beyond end than it will have only start element\n",
    "print(a)\n",
    "\n"
   ]
  },
  {
   "cell_type": "code",
   "execution_count": null,
   "id": "d3e4ba69",
   "metadata": {},
   "outputs": [
    {
     "name": "stdout",
     "output_type": "stream",
     "text": [
      "[[0.66038868 0.93342024 0.99846922]\n",
      " [0.37729542 0.01598568 0.03189888]\n",
      " [0.80882419 0.23521148 0.84082714]\n",
      " [0.73076043 0.4261002  0.69718996]]\n",
      "[0.65881315 0.0076564  0.65656584 0.21728364]\n",
      "[[[0.72599064]\n",
      "  [0.42749503]\n",
      "  [0.38437704]]\n",
      "\n",
      " [[0.5184885 ]\n",
      "  [0.73882552]\n",
      "  [0.89426994]]\n",
      "\n",
      " [[0.451789  ]\n",
      "  [0.02481327]\n",
      "  [0.83208093]]\n",
      "\n",
      " [[0.16451334]\n",
      "  [0.53771669]\n",
      "  [0.97918004]]]\n"
     ]
    }
   ],
   "source": [
    "# random.random is used to create array with random values between 0 to 1\n",
    "a=np.random.random(size=(4,3))\n",
    "print(a)\n",
    "a=np.random.random(size=(4))\n",
    "print(a)\n",
    "a=np.random.random(size=(4,3,1))\n",
    "print(a)"
   ]
  },
  {
   "cell_type": "code",
   "execution_count": 52,
   "id": "d02de837",
   "metadata": {},
   "outputs": [
    {
     "name": "stdout",
     "output_type": "stream",
     "text": [
      "[29 41 18 27 17 19]\n",
      "\n",
      "[[6 8 4]\n",
      " [2 9 0]\n",
      " [7 7 3]]\n",
      "\n",
      "[[[0 0]\n",
      "  [0 1]\n",
      "  [1 3]\n",
      "  [1 3]]\n",
      "\n",
      " [[0 2]\n",
      "  [1 0]\n",
      "  [1 2]\n",
      "  [3 3]]\n",
      "\n",
      " [[0 4]\n",
      "  [3 2]\n",
      "  [2 0]\n",
      "  [1 4]]]\n"
     ]
    }
   ],
   "source": [
    "# random.randint is used to create array with random integer value upto certain value ,certain size\n",
    "# syntax randint(uptoValue,size=(specify dimension))\n",
    "x=np.random.randint(50,size=6)\n",
    "print(x)\n",
    "print()\n",
    "x=np.random.randint(10,size=(3,3))\n",
    "print(x)\n",
    "print()\n",
    "x=np.random.randint(5,size=(3,4,2))\n",
    "print(x)"
   ]
  },
  {
   "cell_type": "code",
   "execution_count": 54,
   "id": "7602b9f0",
   "metadata": {},
   "outputs": [
    {
     "name": "stdout",
     "output_type": "stream",
     "text": [
      "42\n",
      "Dimension  0\n",
      "[42 43]\n",
      "Dimension  1\n",
      "[[42 43]\n",
      " [ 1  2]]\n",
      "Dimension  2\n",
      "[[[[12]\n",
      "   [49]]\n",
      "\n",
      "  [[32]\n",
      "   [43]]]\n",
      "\n",
      "\n",
      " [[[49]\n",
      "   [21]]\n",
      "\n",
      "  [[34]\n",
      "   [29]]]]\n",
      "Dimension  4\n"
     ]
    }
   ],
   "source": [
    "a=np.array(42)\n",
    "print(a)\n",
    "print(\"Dimension \",a.ndim)\n",
    "a=np.array((42,43))\n",
    "print(a)\n",
    "print(\"Dimension \",a.ndim)\n",
    "a=np.array(((42,43),(1,2)))\n",
    "print(a)\n",
    "print(\"Dimension \",a.ndim)\n",
    "a=np.random.randint(50,size=(2,2,2,1))\n",
    "print(a)\n",
    "print(\"Dimension \",a.ndim)\n",
    "# single value 0 dimension multiply single value 1 dimension multiple  multiple value is multi dimension \n"
   ]
  },
  {
   "cell_type": "code",
   "execution_count": 70,
   "id": "80890b52",
   "metadata": {},
   "outputs": [
    {
     "name": "stdout",
     "output_type": "stream",
     "text": [
      "3\n",
      "[0 1 2 3 4 5 6 7 8 9]\n",
      "[[ 0  1  2  3]\n",
      " [ 4  5  6  7]\n",
      " [ 8  9 10 11]]\n",
      "\n",
      "[[[ 0  1  2]\n",
      "  [ 3  4  5]\n",
      "  [ 6  7  8]\n",
      "  [ 9 10 11]]\n",
      "\n",
      " [[12 13 14]\n",
      "  [15 16 17]\n",
      "  [18 19 20]\n",
      "  [21 22 23]]]\n"
     ]
    }
   ],
   "source": [
    "a=np.array((1,2,3,4,5))\n",
    "print(a[2])\n",
    "b=np.arange(10)\n",
    "print(b)\n",
    "c=np.arange(12).reshape(3,4)\n",
    "print(c)\n",
    "print()\n",
    "d=np.arange(24).reshape(2,4,3)\n",
    "print(d)\n",
    "# multiplication of reshape argument should be equal to argument of arrange(stop-start)\n"
   ]
  },
  {
   "cell_type": "code",
   "execution_count": 2,
   "id": "43d29283",
   "metadata": {},
   "outputs": [
    {
     "name": "stdout",
     "output_type": "stream",
     "text": [
      "6\n",
      "6\n"
     ]
    }
   ],
   "source": [
    "import numpy as np\n",
    "d=np.arange(24).reshape(2,4,3)\n",
    "print(d[0][2][0])\n",
    "d=np.arange(24).reshape(2,12)\n",
    "print(d[0][6])"
   ]
  }
 ],
 "metadata": {
  "kernelspec": {
   "display_name": "Python 3",
   "language": "python",
   "name": "python3"
  },
  "language_info": {
   "codemirror_mode": {
    "name": "ipython",
    "version": 3
   },
   "file_extension": ".py",
   "mimetype": "text/x-python",
   "name": "python",
   "nbconvert_exporter": "python",
   "pygments_lexer": "ipython3",
   "version": "3.13.2"
  }
 },
 "nbformat": 4,
 "nbformat_minor": 5
}
