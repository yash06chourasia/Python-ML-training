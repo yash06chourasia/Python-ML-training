{
 "cells": [
  {
   "cell_type": "code",
   "execution_count": 2,
   "id": "c3aca765",
   "metadata": {},
   "outputs": [
    {
     "name": "stdout",
     "output_type": "stream",
     "text": [
      "Requirement already satisfied: numpy in d:\\python\\lib\\site-packages (2.3.1)\n"
     ]
    },
    {
     "name": "stderr",
     "output_type": "stream",
     "text": [
      "\n",
      "[notice] A new release of pip is available: 24.3.1 -> 25.1.1\n",
      "[notice] To update, run: python.exe -m pip install --upgrade pip\n"
     ]
    }
   ],
   "source": [
    "! pip install numpy"
   ]
  },
  {
   "cell_type": "code",
   "execution_count": 4,
   "id": "32794136",
   "metadata": {},
   "outputs": [],
   "source": [
    "import numpy as np"
   ]
  },
  {
   "cell_type": "markdown",
   "id": "d20bf88e",
   "metadata": {},
   "source": [
    "It is used to work with array .The array object in numpy is called ndarray"
   ]
  },
  {
   "cell_type": "code",
   "execution_count": 14,
   "id": "11f8a51c",
   "metadata": {},
   "outputs": [
    {
     "name": "stdout",
     "output_type": "stream",
     "text": [
      "[1.  2.  3.  4.6 5. ]\n",
      "<class 'numpy.ndarray'>\n",
      "[1 2 3 4 6 5]\n",
      "<class 'numpy.ndarray'>\n"
     ]
    }
   ],
   "source": [
    "x=np.array([1,2,3,4.6,5])\n",
    "y=np.array((1,2,3,4,6,5))\n",
    "# x array is treated as float array as a whole while y array is treated as integer array\n",
    "print(x)\n",
    "print(type(x))\n",
    "print(y)\n",
    "print(type(y))"
   ]
  },
  {
   "cell_type": "markdown",
   "id": "38b413be",
   "metadata": {},
   "source": [
    "Array function is ued to create array"
   ]
  },
  {
   "cell_type": "code",
   "execution_count": 23,
   "id": "f2219c1f",
   "metadata": {},
   "outputs": [
    {
     "name": "stdout",
     "output_type": "stream",
     "text": [
      "[0 1 2 3]\n",
      "[1 2 3 4]\n",
      "[1 3 5]\n",
      "[-10  -9  -8  -7  -6  -5]\n",
      "[]\n",
      "[10]\n"
     ]
    }
   ],
   "source": [
    "# numpy.arange(start,stop,step)\n",
    "a=np.arange(4)\n",
    "print(a)\n",
    "a=np.arange(1,5)\n",
    "print(a)\n",
    "a=np.arange(1,6,2)\n",
    "print(a)\n",
    "a=np.arange(-10,-4,1)\n",
    "print(a)\n",
    "a=np.arange(-10,-4,-1)\n",
    "# if start to end traversal is not possible than it will have empty array\n",
    "print(a)\n",
    "a=np.arange(10,-4,-20)\n",
    "# if start to end traversal is possible but after step it goes beyond end than it will have only start element\n",
    "print(a)\n",
    "\n"
   ]
  },
  {
   "cell_type": "code",
   "execution_count": null,
   "id": "d3e4ba69",
   "metadata": {},
   "outputs": [
    {
     "name": "stdout",
     "output_type": "stream",
     "text": [
      "[[0.66038868 0.93342024 0.99846922]\n",
      " [0.37729542 0.01598568 0.03189888]\n",
      " [0.80882419 0.23521148 0.84082714]\n",
      " [0.73076043 0.4261002  0.69718996]]\n",
      "[0.65881315 0.0076564  0.65656584 0.21728364]\n",
      "[[[0.72599064]\n",
      "  [0.42749503]\n",
      "  [0.38437704]]\n",
      "\n",
      " [[0.5184885 ]\n",
      "  [0.73882552]\n",
      "  [0.89426994]]\n",
      "\n",
      " [[0.451789  ]\n",
      "  [0.02481327]\n",
      "  [0.83208093]]\n",
      "\n",
      " [[0.16451334]\n",
      "  [0.53771669]\n",
      "  [0.97918004]]]\n"
     ]
    }
   ],
   "source": [
    "# random.random is used to create array with random values between 0 to 1\n",
    "a=np.random.random(size=(4,3))\n",
    "print(a)\n",
    "a=np.random.random(size=(4))\n",
    "print(a)\n",
    "a=np.random.random(size=(4,3,1))\n",
    "print(a)"
   ]
  },
  {
   "cell_type": "code",
   "execution_count": 52,
   "id": "d02de837",
   "metadata": {},
   "outputs": [
    {
     "name": "stdout",
     "output_type": "stream",
     "text": [
      "[29 41 18 27 17 19]\n",
      "\n",
      "[[6 8 4]\n",
      " [2 9 0]\n",
      " [7 7 3]]\n",
      "\n",
      "[[[0 0]\n",
      "  [0 1]\n",
      "  [1 3]\n",
      "  [1 3]]\n",
      "\n",
      " [[0 2]\n",
      "  [1 0]\n",
      "  [1 2]\n",
      "  [3 3]]\n",
      "\n",
      " [[0 4]\n",
      "  [3 2]\n",
      "  [2 0]\n",
      "  [1 4]]]\n"
     ]
    }
   ],
   "source": [
    "# random.randint is used to create array with random integer value upto certain value ,certain size\n",
    "# syntax randint(uptoValue,size=(specify dimension))\n",
    "x=np.random.randint(50,size=6)\n",
    "print(x)\n",
    "print()\n",
    "x=np.random.randint(10,size=(3,3))\n",
    "print(x)\n",
    "print()\n",
    "x=np.random.randint(5,size=(3,4,2))\n",
    "print(x)"
   ]
  },
  {
   "cell_type": "code",
   "execution_count": 54,
   "id": "7602b9f0",
   "metadata": {},
   "outputs": [
    {
     "name": "stdout",
     "output_type": "stream",
     "text": [
      "42\n",
      "Dimension  0\n",
      "[42 43]\n",
      "Dimension  1\n",
      "[[42 43]\n",
      " [ 1  2]]\n",
      "Dimension  2\n",
      "[[[[12]\n",
      "   [49]]\n",
      "\n",
      "  [[32]\n",
      "   [43]]]\n",
      "\n",
      "\n",
      " [[[49]\n",
      "   [21]]\n",
      "\n",
      "  [[34]\n",
      "   [29]]]]\n",
      "Dimension  4\n"
     ]
    }
   ],
   "source": [
    "a=np.array(42)\n",
    "print(a)\n",
    "print(\"Dimension \",a.ndim)\n",
    "a=np.array((42,43))\n",
    "print(a)\n",
    "print(\"Dimension \",a.ndim)\n",
    "a=np.array(((42,43),(1,2)))\n",
    "print(a)\n",
    "print(\"Dimension \",a.ndim)\n",
    "a=np.random.randint(50,size=(2,2,2,1))\n",
    "print(a)\n",
    "print(\"Dimension \",a.ndim)\n",
    "# single value 0 dimension multiply single value 1 dimension multiple  multiple value is multi dimension \n"
   ]
  },
  {
   "cell_type": "code",
   "execution_count": 70,
   "id": "80890b52",
   "metadata": {},
   "outputs": [
    {
     "name": "stdout",
     "output_type": "stream",
     "text": [
      "3\n",
      "[0 1 2 3 4 5 6 7 8 9]\n",
      "[[ 0  1  2  3]\n",
      " [ 4  5  6  7]\n",
      " [ 8  9 10 11]]\n",
      "\n",
      "[[[ 0  1  2]\n",
      "  [ 3  4  5]\n",
      "  [ 6  7  8]\n",
      "  [ 9 10 11]]\n",
      "\n",
      " [[12 13 14]\n",
      "  [15 16 17]\n",
      "  [18 19 20]\n",
      "  [21 22 23]]]\n"
     ]
    }
   ],
   "source": [
    "a=np.array((1,2,3,4,5))\n",
    "print(a[2])\n",
    "b=np.arange(10)\n",
    "print(b)\n",
    "c=np.arange(12).reshape(3,4)\n",
    "print(c)\n",
    "print()\n",
    "d=np.arange(24).reshape(2,4,3)\n",
    "print(d)\n",
    "# multiplication of reshape argument should be equal to argument of arrange(stop-start)\n"
   ]
  },
  {
   "cell_type": "code",
   "execution_count": 1,
   "id": "43d29283",
   "metadata": {},
   "outputs": [
    {
     "name": "stdout",
     "output_type": "stream",
     "text": [
      "6\n",
      "6\n"
     ]
    }
   ],
   "source": [
    "import numpy as np\n",
    "d=np.arange(24).reshape(2,4,3)\n",
    "print(d[0][2][0])\n",
    "d=np.arange(24).reshape(2,12)\n",
    "print(d[0][6])\n",
    "# Single element read "
   ]
  },
  {
   "cell_type": "code",
   "execution_count": 6,
   "id": "68ae32cd",
   "metadata": {},
   "outputs": [
    {
     "name": "stdout",
     "output_type": "stream",
     "text": [
      "[9 8 7 6 5 4 3 2 1 0]\n",
      "[0 1 2 3 4 5 6 7 8 9]\n",
      "[2 4 6 8]\n"
     ]
    }
   ],
   "source": [
    "# Slicing in 1D array (same as list slicing)\n",
    "a=np.arange(10)\n",
    "print(a[::-1])\n",
    "print(a[::])\n",
    "print(a[2::2])"
   ]
  },
  {
   "cell_type": "code",
   "execution_count": 43,
   "id": "d132b7b9",
   "metadata": {},
   "outputs": [
    {
     "name": "stdout",
     "output_type": "stream",
     "text": [
      "[[ 0  1  2  3]\n",
      " [ 4  5  6  7]\n",
      " [ 8  9 10 11]]\n",
      "\n",
      "[0 1 2 3]\n",
      "\n",
      "[0 4 8]\n",
      "\n",
      "[[ 5  6  7]\n",
      " [ 9 10 11]]\n",
      "\n",
      "[[0 1]\n",
      " [8 9]]\n",
      "\n",
      "[[ 0  3]\n",
      " [ 8 11]]\n",
      "\n",
      "[[11  8]\n",
      " [ 3  0]]\n",
      "\n",
      "[[ 5  7]\n",
      " [ 9 11]]\n"
     ]
    }
   ],
   "source": [
    "a=np.arange(12).reshape(3,4)\n",
    "print(a)\n",
    "print()\n",
    "print(a[0,:])\n",
    "print()\n",
    "print(a[:,0])\n",
    "print()\n",
    "print(a[1:,1:])\n",
    "print()\n",
    "print(a[::2,:2:])\n",
    "print()\n",
    "print(a[::2,::3])\n",
    "print()\n",
    "print(a[-1::-2,-1::-3])\n",
    "print()\n",
    "print(a[1::,1::2])\n",
    "# Slicing in 2d array a[<row slicing>,<column slicing>]"
   ]
  },
  {
   "cell_type": "code",
   "execution_count": 51,
   "id": "e4d41be7",
   "metadata": {},
   "outputs": [
    {
     "name": "stdout",
     "output_type": "stream",
     "text": [
      "[[[ 0  1  2]\n",
      "  [ 3  4  5]\n",
      "  [ 6  7  8]\n",
      "  [ 9 10 11]]\n",
      "\n",
      " [[12 13 14]\n",
      "  [15 16 17]\n",
      "  [18 19 20]\n",
      "  [21 22 23]]]\n",
      "\n",
      "[[15 17]\n",
      " [21 23]]\n",
      "\n",
      "[[ 0  1  2]\n",
      " [ 3  4  5]\n",
      " [ 6  7  8]\n",
      " [ 9 10 11]]\n",
      "\n",
      "[0 1 2]\n",
      "\n",
      "[[12 13 14]\n",
      " [15 16 17]\n",
      " [18 19 20]]\n",
      "\n",
      "[[0 2]\n",
      " [3 5]]\n"
     ]
    }
   ],
   "source": [
    "# Slicing in 3D array\n",
    "a=np.arange(24).reshape(2,4,3)\n",
    "print(a)\n",
    "print()\n",
    "print(a[1,1::2,::2])\n",
    "print()\n",
    "print(a[0])\n",
    "print()\n",
    "print(a[0,0])\n",
    "print()\n",
    "print(a[1,:3])\n",
    "print()\n",
    "print(a[0,:2,::2])\n"
   ]
  },
  {
   "cell_type": "code",
   "execution_count": 57,
   "id": "4168d0ce",
   "metadata": {},
   "outputs": [
    {
     "name": "stdout",
     "output_type": "stream",
     "text": [
      "int64\n",
      "float64\n",
      "8\n",
      "8\n",
      "40\n",
      "48\n"
     ]
    }
   ],
   "source": [
    "a=np.array((1,2,3,4,5))\n",
    "b=np.array((5.5,6.0,7.7,2,3,7))\n",
    "print(a.dtype)\n",
    "# it specifies type of element contained in the array\n",
    "print(b.dtype)\n",
    "print(a.itemsize)\n",
    "# no of bytes occupied by individual elements\n",
    "print(b.itemsize)\n",
    "print(a.nbytes)\n",
    "# no of bytes allocated to whole array\n",
    "print(b.nbytes)"
   ]
  },
  {
   "cell_type": "code",
   "execution_count": 8,
   "id": "6a129af0",
   "metadata": {},
   "outputs": [
    {
     "name": "stdout",
     "output_type": "stream",
     "text": [
      "2\n",
      "(2, 6)\n",
      "12\n"
     ]
    }
   ],
   "source": [
    "import numpy as np\n",
    "a=np.array([[1,2,3,4,5,6],[7,8,9,1,2,3]])\n",
    "print(a.ndim)\n",
    "# it give dimension\n",
    "print(a.shape)\n",
    "# it gives rows and columns\n",
    "print(a.size)\n",
    "# it gives total elements in array"
   ]
  },
  {
   "cell_type": "code",
   "execution_count": 21,
   "id": "f9e91d6c",
   "metadata": {},
   "outputs": [
    {
     "name": "stdout",
     "output_type": "stream",
     "text": [
      "[0. 0. 0. 0. 0. 0. 0. 0. 0. 0.]\n",
      "[[0. 0. 0. 0. 0. 0.]\n",
      " [0. 0. 0. 0. 0. 0.]\n",
      " [0. 0. 0. 0. 0. 0.]]\n",
      "\n",
      "[[[0. 0.]\n",
      "  [0. 0.]]\n",
      "\n",
      " [[0. 0.]\n",
      "  [0. 0.]]]\n",
      "\n",
      "[1 1 1 1 1]\n"
     ]
    }
   ],
   "source": [
    "a=np.zeros(10)\n",
    "print(a)\n",
    "a=np.zeros((3,6))\n",
    "print(a)\n",
    "print()\n",
    "a=np.zeros((2,2,2))\n",
    "print(a)\n",
    "print()\n",
    "a=np.ones(5,dtype='int')\n",
    "print(a)"
   ]
  },
  {
   "cell_type": "code",
   "execution_count": 27,
   "id": "56da0741",
   "metadata": {},
   "outputs": [
    {
     "name": "stdout",
     "output_type": "stream",
     "text": [
      "[[1 0 0]\n",
      " [0 1 0]\n",
      " [0 0 1]]\n",
      "\n",
      "[[1. 0.]\n",
      " [0. 1.]]\n"
     ]
    },
    {
     "data": {
      "text/plain": [
       "array([[1, 0, 0],\n",
       "       [0, 1, 0],\n",
       "       [0, 0, 1]])"
      ]
     },
     "execution_count": 27,
     "metadata": {},
     "output_type": "execute_result"
    }
   ],
   "source": [
    "print(np.identity(3,dtype='int'))\n",
    "print()\n",
    "print(np.identity(2))\n",
    "# default data as float\n",
    "np.identity(3,dtype='int')"
   ]
  },
  {
   "cell_type": "code",
   "execution_count": 31,
   "id": "94511c08",
   "metadata": {},
   "outputs": [
    {
     "name": "stdout",
     "output_type": "stream",
     "text": [
      "[ 6  7  8  9 10]\n",
      "[ -5 -10 -15 -20 -25]\n"
     ]
    }
   ],
   "source": [
    "a=np.array((1,2,3,4,5))\n",
    "# Scalar operation\n",
    "a=a+5\n",
    "print(a)\n",
    "a=np.array((1,2,3,4,5))\n",
    "a=-a*5\n",
    "print(a)\n",
    "# Similar to -,/,**,//,% and unary operations"
   ]
  },
  {
   "cell_type": "code",
   "execution_count": 38,
   "id": "f592e357",
   "metadata": {},
   "outputs": [
    {
     "name": "stdout",
     "output_type": "stream",
     "text": [
      "[6 6 6 6 6]\n",
      "[ 4  2  0 -2 -4]\n",
      "[5 8 9 8 5]\n",
      "[5.  2.  1.  0.5 0.2]\n",
      "[5 2 1 0 0]\n",
      "[ 5 16 27 16  1]\n",
      "[0 0 0 2 1]\n"
     ]
    }
   ],
   "source": [
    "a=np.array([5,4,3,2,1])\n",
    "b=np.array([1,2,3,4,5])\n",
    "print(a+b)\n",
    "print(a-b)\n",
    "print(a*b)\n",
    "print(a/b)\n",
    "print(a//b)\n",
    "print(a**b)\n",
    "print(a%b)"
   ]
  }
 ],
 "metadata": {
  "kernelspec": {
   "display_name": "Python 3",
   "language": "python",
   "name": "python3"
  },
  "language_info": {
   "codemirror_mode": {
    "name": "ipython",
    "version": 3
   },
   "file_extension": ".py",
   "mimetype": "text/x-python",
   "name": "python",
   "nbconvert_exporter": "python",
   "pygments_lexer": "ipython3",
   "version": "3.13.2"
  }
 },
 "nbformat": 4,
 "nbformat_minor": 5
}
