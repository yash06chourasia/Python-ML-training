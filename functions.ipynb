{
 "cells": [
  {
   "cell_type": "markdown",
   "id": "fa33da00",
   "metadata": {},
   "source": [
    "Calculate nCr"
   ]
  },
  {
   "cell_type": "code",
   "execution_count": 8,
   "id": "96d27489",
   "metadata": {},
   "outputs": [
    {
     "name": "stdout",
     "output_type": "stream",
     "text": [
      "3.0\n"
     ]
    }
   ],
   "source": [
    "def fact(num):\n",
    "    fact=1\n",
    "    for i in range(1,num+1):\n",
    "        fact*=i\n",
    "    return fact\n",
    "\n",
    "n=int(input(\"Enter n value:\"))\n",
    "r=int(input(\"Enter r value:\"))\n",
    "print(fact(n)/(fact(r)*fact(n-r)))\n",
    "\n"
   ]
  },
  {
   "cell_type": "markdown",
   "id": "bd83525a",
   "metadata": {},
   "source": [
    "WAP to sum the prime digits from a list"
   ]
  },
  {
   "cell_type": "code",
   "execution_count": 31,
   "id": "cc2aece2",
   "metadata": {},
   "outputs": [
    {
     "name": "stdout",
     "output_type": "stream",
     "text": [
      "42\n"
     ]
    }
   ],
   "source": [
    "def isprime(num):\n",
    "    prime=True\n",
    "    for i in range(2,num):\n",
    "        if(num%i==0):\n",
    "            prime=False\n",
    "    return prime\n",
    "            \n",
    "\n",
    "l=[3,2,5,7,9,2,5,8,3,7,9,3,5]\n",
    "sum=0\n",
    "for i in l:\n",
    "    if(isprime(i)):\n",
    "        sum+=i\n",
    "print(sum)\n"
   ]
  },
  {
   "cell_type": "markdown",
   "id": "8fa4ed6f",
   "metadata": {},
   "source": [
    "WAP to print sum of single digit elements of a list"
   ]
  },
  {
   "cell_type": "code",
   "execution_count": 32,
   "id": "d45cf5ab",
   "metadata": {},
   "outputs": [
    {
     "name": "stdout",
     "output_type": "stream",
     "text": [
      "42\n"
     ]
    }
   ],
   "source": [
    "def prime_sum(l):\n",
    "    sum=0\n",
    "    for i in l:\n",
    "        if i==2 or i==3 or i==5 or i==7 :\n",
    "            sum+=i\n",
    "    return sum\n",
    "            \n",
    "\n",
    "l=[3,2,5,7,9,2,5,8,3,7,9,3,5]\n",
    "print(sum)"
   ]
  },
  {
   "cell_type": "code",
   "execution_count": 35,
   "id": "49db9ca2",
   "metadata": {},
   "outputs": [
    {
     "name": "stdout",
     "output_type": "stream",
     "text": [
      "Your name and id is  yash yc384\n",
      "Your age is  22\n"
     ]
    }
   ],
   "source": [
    "def print_info(name,id,age):\n",
    "    print(\"Your name and id is \",name,id)\n",
    "    print(\"Your age is \",age)\n",
    "print_info(name=\"yash\",age=22,id=\"yc384\")\n",
    "\n",
    "    "
   ]
  },
  {
   "cell_type": "code",
   "execution_count": 38,
   "id": "bab12fe1",
   "metadata": {},
   "outputs": [
    {
     "name": "stdout",
     "output_type": "stream",
     "text": [
      "Sum is 20\n",
      "Multiplication is 100\n"
     ]
    }
   ],
   "source": [
    "def sum(a,b):\n",
    "    sum=a+b\n",
    "    print(\"Sum is\",sum)\n",
    "def multi(a,b):\n",
    "    mul=a*b\n",
    "    print(\"Multiplication is\",mul)\n",
    "a=int(input(\"Enter first no. \"))\n",
    "b=int(input(\"Enter second no. \"))\n",
    "sum(a,b) \n",
    "multi(a,b)"
   ]
  },
  {
   "cell_type": "code",
   "execution_count": 43,
   "id": "2fcb3d92",
   "metadata": {},
   "outputs": [
    {
     "name": "stdout",
     "output_type": "stream",
     "text": [
      "10\n",
      "15\n",
      "45\n",
      "10\n"
     ]
    }
   ],
   "source": [
    "# temp store data in the form of tuple\n",
    "def add(* temp):\n",
    "    x=0\n",
    "    for i in temp:\n",
    "        x+=i\n",
    "    print(x)\n",
    "add(1,2,3,4)\n",
    "add(1,2,3,4,5)\n",
    "add(1,2,3,4,5,6,7,8,9,0)\n",
    "add(1,1,1,1,1,1,1,1,1,1)"
   ]
  },
  {
   "cell_type": "markdown",
   "id": "0d6e17e4",
   "metadata": {},
   "source": [
    "lambda argument : expression\n",
    "it return function instead of value"
   ]
  },
  {
   "cell_type": "code",
   "execution_count": null,
   "id": "909c8813",
   "metadata": {},
   "outputs": [
    {
     "name": "stdout",
     "output_type": "stream",
     "text": [
      "27\n"
     ]
    }
   ],
   "source": [
    "print((lambda x : x**3)(3))"
   ]
  },
  {
   "cell_type": "code",
   "execution_count": 45,
   "id": "c8067353",
   "metadata": {},
   "outputs": [
    {
     "name": "stdout",
     "output_type": "stream",
     "text": [
      "64\n"
     ]
    }
   ],
   "source": [
    "fun=lambda x : x**3\n",
    "print(fun(4))"
   ]
  },
  {
   "cell_type": "code",
   "execution_count": 54,
   "id": "7090940d",
   "metadata": {},
   "outputs": [
    {
     "data": {
      "text/plain": [
       "'Even'"
      ]
     },
     "execution_count": 54,
     "metadata": {},
     "output_type": "execute_result"
    }
   ],
   "source": [
    "fun=lambda x: \"Even\" if x%2==0 else \"Odd\"\n",
    "fun(30)\n"
   ]
  },
  {
   "cell_type": "code",
   "execution_count": 64,
   "id": "ba42a278",
   "metadata": {},
   "outputs": [
    {
     "name": "stdout",
     "output_type": "stream",
     "text": [
      "Not a prime\n"
     ]
    }
   ],
   "source": [
    "def isprime(n):\n",
    "    for i in range(2,n):\n",
    "        if(n%i==0):\n",
    "            return False\n",
    "    return True\n",
    "\n",
    "n=int(input(\"Enter number :\"))\n",
    "print((lambda n:\"prime\" if isprime(n) else \"Not a prime\")(n))"
   ]
  },
  {
   "cell_type": "code",
   "execution_count": 4,
   "id": "fbc604fe",
   "metadata": {},
   "outputs": [
    {
     "name": "stdout",
     "output_type": "stream",
     "text": [
      "Not a prime\n"
     ]
    }
   ],
   "source": [
    "fun=lambda x : \"Prime\" if x==2 or x==3 or x==5 or x==7 else \"Not a prime\"\n",
    "print(fun(6))"
   ]
  },
  {
   "cell_type": "markdown",
   "id": "ddeb53bf",
   "metadata": {},
   "source": [
    "High order function"
   ]
  },
  {
   "cell_type": "code",
   "execution_count": 5,
   "id": "4f48d281",
   "metadata": {},
   "outputs": [
    {
     "name": "stdout",
     "output_type": "stream",
     "text": [
      "[9, 25, 49, 4, 64]\n"
     ]
    }
   ],
   "source": [
    "l=[3,5,7,2,8]\n",
    "x=list(map(lambda x:x**2,l))\n",
    "print(x)"
   ]
  },
  {
   "cell_type": "code",
   "execution_count": 10,
   "id": "f88f8589",
   "metadata": {},
   "outputs": [
    {
     "name": "stdout",
     "output_type": "stream",
     "text": [
      "[4.90625, 32.556776000000006, 68.773536, 376.49385, 452.16, 1741.4518500000004]\n"
     ]
    }
   ],
   "source": [
    "# calculate area of circle using given list of radius\n",
    "lst=[1.25,3.22,4.68,10.95,12,23.55]\n",
    "x=list(map(lambda x: 3.14*x**2,lst))\n",
    "print(x)"
   ]
  },
  {
   "cell_type": "code",
   "execution_count": 12,
   "id": "58330247",
   "metadata": {},
   "outputs": [
    {
     "name": "stdout",
     "output_type": "stream",
     "text": [
      "[5, 6, 7, 3]\n"
     ]
    }
   ],
   "source": [
    "l=[\"Hello\",\"Global\",\"College\",\"XYZ\"]\n",
    "x=list(map(lambda x:len(x),l))\n",
    "print(x)"
   ]
  },
  {
   "cell_type": "markdown",
   "id": "ee443700",
   "metadata": {},
   "source": [
    "Syntax : filter(function,sequence)"
   ]
  },
  {
   "cell_type": "code",
   "execution_count": 14,
   "id": "dbd0c065",
   "metadata": {},
   "outputs": [
    {
     "name": "stdout",
     "output_type": "stream",
     "text": [
      "[4, 5, 6, 7, 8, 9]\n"
     ]
    }
   ],
   "source": [
    "l=[2,3,4,5,6,7,8,9]\n",
    "var=list(filter(lambda x : x>=4 ,l))\n",
    "print(var)"
   ]
  },
  {
   "cell_type": "code",
   "execution_count": 15,
   "id": "8e0ecde2",
   "metadata": {},
   "outputs": [
    {
     "name": "stdout",
     "output_type": "stream",
     "text": [
      "['abc', 'abd', 'Asd']\n"
     ]
    }
   ],
   "source": [
    "lst=['abc','xyz','bca','abd','Asd','bcd']\n",
    "var=list(filter(lambda x: x[0]=='a'or x[0]=='A',lst))\n",
    "print(var)"
   ]
  },
  {
   "cell_type": "markdown",
   "id": "44db68dd",
   "metadata": {},
   "source": [
    "reduce() performs rolling computations"
   ]
  },
  {
   "cell_type": "code",
   "execution_count": 16,
   "id": "ae65a5d4",
   "metadata": {},
   "outputs": [
    {
     "name": "stdout",
     "output_type": "stream",
     "text": [
      "15\n"
     ]
    }
   ],
   "source": [
    "from functools import reduce\n",
    "l=[1,2,3,4,5]\n",
    "y=reduce(lambda x,y:x+y,l)\n",
    "print(y)"
   ]
  },
  {
   "cell_type": "code",
   "execution_count": 23,
   "id": "4b8693c6",
   "metadata": {},
   "outputs": [
    {
     "name": "stdout",
     "output_type": "stream",
     "text": [
      "5\n",
      "1\n"
     ]
    }
   ],
   "source": [
    "from functools import reduce\n",
    "l=[1,2,3,4,5,4,3,2,4]\n",
    "y=reduce(lambda x,y:max(x,y),l)\n",
    "z=reduce(lambda x,y:x if x<y else y ,l)\n",
    "\n",
    "print(y)\n",
    "print(z)"
   ]
  },
  {
   "cell_type": "markdown",
   "id": "143d8257",
   "metadata": {},
   "source": [
    "Reverse key and value of given dictionary using dictionary comprehension"
   ]
  },
  {
   "cell_type": "code",
   "execution_count": 30,
   "id": "80b13b4e",
   "metadata": {},
   "outputs": [
    {
     "name": "stdout",
     "output_type": "stream",
     "text": [
      "{1: 'x', 2: 'y', 3: 'z'}\n"
     ]
    }
   ],
   "source": [
    "dct={'x':1,'y':2,'z':3}\n",
    "d={v:k for k,v in dct.items()}\n",
    "print(d)"
   ]
  }
 ],
 "metadata": {
  "kernelspec": {
   "display_name": "Python 3",
   "language": "python",
   "name": "python3"
  },
  "language_info": {
   "codemirror_mode": {
    "name": "ipython",
    "version": 3
   },
   "file_extension": ".py",
   "mimetype": "text/x-python",
   "name": "python",
   "nbconvert_exporter": "python",
   "pygments_lexer": "ipython3",
   "version": "3.13.2"
  }
 },
 "nbformat": 4,
 "nbformat_minor": 5
}
