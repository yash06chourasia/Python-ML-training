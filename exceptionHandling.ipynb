{
 "cells": [
  {
   "cell_type": "code",
   "execution_count": 3,
   "id": "f11819e1",
   "metadata": {},
   "outputs": [
    {
     "name": "stdout",
     "output_type": "stream",
     "text": [
      "Index is out of range, please enter valid value\n"
     ]
    }
   ],
   "source": [
    "#Used to handle the exceptions.\n",
    "#try block is a part of code that may raise certain error\n",
    "#Error raised in try block will redirect to except block\n",
    "try:\n",
    "    lst = [12,3,4,1,44,2]\n",
    "    print(lst[90])\n",
    "except:\n",
    "    print(\"Index is out of range, please enter valid value\")"
   ]
  },
  {
   "cell_type": "code",
   "execution_count": 7,
   "id": "8d4a39bc",
   "metadata": {},
   "outputs": [
    {
     "name": "stdout",
     "output_type": "stream",
     "text": [
      "4\n",
      "[1, 2, 4, 3, 4, 12, 4, 55]\n",
      "Cannot divide any number with 0\n"
     ]
    }
   ],
   "source": [
    "try:\n",
    "    lst = [1,2,4,3,4,12,4,55]\n",
    "    print(lst[2])# index error\n",
    "    print(lst)# nameError\n",
    "    print(5/0)# ZeroDivisionError\n",
    "except IndexError:\n",
    "    print(\"Index is out of range, please enter valied value\")\n",
    "except NameError:\n",
    "    print(\"variable is not defined\")\n",
    "except ZeroDivisionError:\n",
    "    print(\"Cannot divide any number with 0\")            \n"
   ]
  }
 ],
 "metadata": {
  "kernelspec": {
   "display_name": "Python 3",
   "language": "python",
   "name": "python3"
  },
  "language_info": {
   "codemirror_mode": {
    "name": "ipython",
    "version": 3
   },
   "file_extension": ".py",
   "mimetype": "text/x-python",
   "name": "python",
   "nbconvert_exporter": "python",
   "pygments_lexer": "ipython3",
   "version": "3.13.2"
  }
 },
 "nbformat": 4,
 "nbformat_minor": 5
}
