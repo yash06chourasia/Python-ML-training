{
 "cells": [
  {
   "cell_type": "markdown",
   "id": "d59ebf3f",
   "metadata": {},
   "source": [
    "WAP to take unit consumed as input and generate the bill using criteria if units are between 0 to 50 ,charges will be 0.5 unit,if units  are between 51 to 200 charges will be 0.75 per unit,if units are between 201 to 450 charges will be 1.20 per units ,if units are above 450 charges will be 1.5 per unit along with 20% additional charge of total bill"
   ]
  },
  {
   "cell_type": "code",
   "execution_count": null,
   "id": "6678fde6",
   "metadata": {},
   "outputs": [
    {
     "name": "stdout",
     "output_type": "stream",
     "text": [
      "Total Bill is  75.0\n"
     ]
    }
   ],
   "source": [
    "unit=int(input(\"Enter the units consume : \"))\n",
    "if unit<=50:\n",
    "    price=unit*0.5\n",
    "elif unit<=200:\n",
    "    price=50*0.5+(unit-50)*0.75\n",
    "elif unit<=450:\n",
    "    price=50*0.5+150*0.75+(unit-200)*1.20\n",
    "else:\n",
    "    price=50*0.5+150*0.75+200*1.20+(u-450)*1.5\n",
    "total=price+0.2*price\n",
    "print(\"Total Bill is \",total)\n"
   ]
  },
  {
   "cell_type": "markdown",
   "id": "902380c6",
   "metadata": {},
   "source": [
    "WAP which accept km covered and calculate bill according to criteria \n",
    "first 10 km ===RS 11/km\n",
    "next 90 km ===RS 10/km\n",
    "after that ===RS 9/km"
   ]
  },
  {
   "cell_type": "code",
   "execution_count": null,
   "id": "a7a8a8c5",
   "metadata": {},
   "outputs": [
    {
     "name": "stdout",
     "output_type": "stream",
     "text": [
      "Total bill  1190\n"
     ]
    }
   ],
   "source": [
    "km=int(input(\"Enter kilometers covered :\"))\n",
    "if(km<=10):\n",
    "    bill=km*11\n",
    "elif(km<=100):\n",
    "    bill=10*11+(km-10)*10\n",
    "else:\n",
    "    bill=10*11+90*10+(km-90)*9\n",
    "print(\"Total bill \",bill)"
   ]
  },
  {
   "cell_type": "code",
   "execution_count": 7,
   "id": "a7ce0ea0",
   "metadata": {},
   "outputs": [
    {
     "name": "stdout",
     "output_type": "stream",
     "text": [
      "1 3 5 7 9 11 13 15 17 19 "
     ]
    }
   ],
   "source": [
    "i=1\n",
    "while(i<=19):\n",
    "    print(i,end=\" \")\n",
    "    i+=2"
   ]
  },
  {
   "cell_type": "markdown",
   "id": "6d197c25",
   "metadata": {},
   "source": [
    "WAP which will print sum of all the odd number between 25 to 70"
   ]
  },
  {
   "cell_type": "code",
   "execution_count": 9,
   "id": "fe9f35ad",
   "metadata": {},
   "outputs": [
    {
     "name": "stdout",
     "output_type": "stream",
     "text": [
      "1081\n"
     ]
    }
   ],
   "source": [
    "i=25\n",
    "sum=0\n",
    "while(i<70):\n",
    "    sum+=i\n",
    "    i+=2\n",
    "print(sum)"
   ]
  },
  {
   "cell_type": "code",
   "execution_count": 18,
   "id": "d14104ac",
   "metadata": {},
   "outputs": [
    {
     "name": "stdout",
     "output_type": "stream",
     "text": [
      "1081\n"
     ]
    }
   ],
   "source": [
    "temp=0\n",
    "i=25\n",
    "while i<=70:\n",
    "    if i%2!=0:\n",
    "        temp+=i\n",
    "    i+=1\n",
    "print(temp)"
   ]
  },
  {
   "cell_type": "markdown",
   "id": "53affe3b",
   "metadata": {},
   "source": [
    "WAP which will take a number as input and print its factor"
   ]
  },
  {
   "cell_type": "code",
   "execution_count": 22,
   "id": "919a7ce4",
   "metadata": {},
   "outputs": [
    {
     "name": "stdout",
     "output_type": "stream",
     "text": [
      "Factors are \n",
      "1 17 "
     ]
    }
   ],
   "source": [
    "n=int(input(\"Enter number\"))\n",
    "print(\"Factors are \")\n",
    "i=1\n",
    "while(i<=n):\n",
    "    if(n%i==0):\n",
    "        print(i,end=\" \")\n",
    "    i+=1"
   ]
  },
  {
   "cell_type": "markdown",
   "id": "08743c0e",
   "metadata": {},
   "source": [
    "WAP to implement factorial"
   ]
  },
  {
   "cell_type": "code",
   "execution_count": 28,
   "id": "559726bf",
   "metadata": {},
   "outputs": [
    {
     "name": "stdout",
     "output_type": "stream",
     "text": [
      "Factorial of 5 is 120\n"
     ]
    }
   ],
   "source": [
    "n=int(input(\"Enter number \"))\n",
    "fact=1\n",
    "i=1\n",
    "while(i<=n):\n",
    "    fact=fact*i\n",
    "    i+=1\n",
    "print(\"Factorial of\",n, \"is\",fact)"
   ]
  },
  {
   "cell_type": "markdown",
   "id": "25e5c3a6",
   "metadata": {},
   "source": [
    "Count number of digits in a number\n"
   ]
  },
  {
   "cell_type": "code",
   "execution_count": 32,
   "id": "ae543af9",
   "metadata": {},
   "outputs": [
    {
     "name": "stdout",
     "output_type": "stream",
     "text": [
      "Total digits in 3040608090 is 10\n"
     ]
    }
   ],
   "source": [
    "n=int(input(\"Enter number :\"))\n",
    "count=0\n",
    "t=n\n",
    "while(n!=0):\n",
    "    n=n//10\n",
    "    count+=1\n",
    "print(\"Total digits in\",t,\"is\",count)"
   ]
  },
  {
   "cell_type": "markdown",
   "id": "d5ad5bac",
   "metadata": {},
   "source": [
    "Sum of Digit in a number"
   ]
  },
  {
   "cell_type": "code",
   "execution_count": 36,
   "id": "d6f3ff6d",
   "metadata": {},
   "outputs": [
    {
     "name": "stdout",
     "output_type": "stream",
     "text": [
      "Sum of digit in 12345 is 15\n"
     ]
    }
   ],
   "source": [
    "n=int(input(\"Enter number :\"))\n",
    "sum=0\n",
    "t=n\n",
    "while(n!=0):\n",
    "    rem=n%10\n",
    "    sum+=rem\n",
    "    n=n//10\n",
    "print(\"Sum of digit in\",t,\"is\",sum)"
   ]
  },
  {
   "cell_type": "markdown",
   "id": "ba6fae2c",
   "metadata": {},
   "source": [
    "WAP to reverse a number\n"
   ]
  },
  {
   "cell_type": "code",
   "execution_count": 5,
   "id": "97fdcef6",
   "metadata": {},
   "outputs": [
    {
     "name": "stdout",
     "output_type": "stream",
     "text": [
      "Reverse number is : 987654321\n"
     ]
    }
   ],
   "source": [
    "n=int(input(\"Enter the number: \"))\n",
    "rev=0\n",
    "while(n!=0):\n",
    "    rem=n%10\n",
    "    rev=rev*10+rem\n",
    "    n=n//10\n",
    "print(\"Reverse number is :\",rev)\n"
   ]
  },
  {
   "cell_type": "markdown",
   "id": "7527f89b",
   "metadata": {},
   "source": [
    "WAP to check palindrome\n"
   ]
  },
  {
   "cell_type": "code",
   "execution_count": 7,
   "id": "12038606",
   "metadata": {},
   "outputs": [
    {
     "name": "stdout",
     "output_type": "stream",
     "text": [
      "Palindrome\n"
     ]
    }
   ],
   "source": [
    "n=int(input(\"Enter the number :\"))\n",
    "temp=n\n",
    "rev=0\n",
    "while(n!=0):\n",
    "    rem=n%10\n",
    "    rev=rev*10+rem\n",
    "    n=n//10\n",
    "if(rev==temp):\n",
    "    print(\"Palindrome\")\n",
    "else:\n",
    "    print(\"Not a Palindrome\")"
   ]
  },
  {
   "cell_type": "markdown",
   "id": "b497cbb6",
   "metadata": {},
   "source": [
    "WAP to check for Armstrong number, narcissistic number or pluperfect digital invariant"
   ]
  },
  {
   "cell_type": "code",
   "execution_count": 18,
   "id": "dd00f880",
   "metadata": {},
   "outputs": [
    {
     "name": "stdout",
     "output_type": "stream",
     "text": [
      "Not an armstrong number\n"
     ]
    }
   ],
   "source": [
    "n=int(input(\"Enter the number :\"))\n",
    "sum=0\n",
    "temp=n\n",
    "m=n\n",
    "count=0\n",
    "while(m!=0):\n",
    "    m=m//10\n",
    "    count+=1\n",
    "\n",
    "while(n!=0):\n",
    "    rem=n%10\n",
    "    sum=sum+rem**count\n",
    "    n=n//10\n",
    "if(sum==temp):\n",
    "    print(\"Armstrong number\")\n",
    "else:\n",
    "    print(\"Not an armstrong number\")\n"
   ]
  }
 ],
 "metadata": {
  "kernelspec": {
   "display_name": "Python 3",
   "language": "python",
   "name": "python3"
  },
  "language_info": {
   "codemirror_mode": {
    "name": "ipython",
    "version": 3
   },
   "file_extension": ".py",
   "mimetype": "text/x-python",
   "name": "python",
   "nbconvert_exporter": "python",
   "pygments_lexer": "ipython3",
   "version": "3.13.2"
  }
 },
 "nbformat": 4,
 "nbformat_minor": 5
}
