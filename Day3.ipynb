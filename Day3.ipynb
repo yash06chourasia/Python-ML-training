{
 "cells": [
  {
   "cell_type": "markdown",
   "id": "f755d02c",
   "metadata": {},
   "source": [
    "WAP to count even and odd digits in a number"
   ]
  },
  {
   "cell_type": "code",
   "execution_count": 29,
   "id": "18a4d94a",
   "metadata": {},
   "outputs": [
    {
     "name": "stdout",
     "output_type": "stream",
     "text": [
      "Even digit is  2\n",
      "Odd digit is  2\n"
     ]
    }
   ],
   "source": [
    "n=int(input(\"Enter the number : \"))\n",
    "ecount=0\n",
    "ocount=0\n",
    "while(n!=0):\n",
    "    temp=n%10\n",
    "    if(temp%2==0):\n",
    "        ecount+=1\n",
    "    else:\n",
    "        ocount+=1\n",
    "    n=n//10\n",
    "print(\"Even digit is \",ecount)\n",
    "print(\"Odd digit is \",ocount)\n",
    "\n",
    "    "
   ]
  },
  {
   "cell_type": "markdown",
   "id": "57ff916e",
   "metadata": {},
   "source": [
    "WAP which will take length of the three sides of a triangle from an user and check whether if the triangle is Equilateral, isosceles or Scalene Triangle"
   ]
  },
  {
   "cell_type": "code",
   "execution_count": 24,
   "id": "5c95d762",
   "metadata": {},
   "outputs": [
    {
     "name": "stdout",
     "output_type": "stream",
     "text": [
      "Scalene Triangle\n"
     ]
    }
   ],
   "source": [
    "s1=int(input(\"Side 1:\"))\n",
    "s2=int(input(\"Side 2:\"))\n",
    "s3=int(input(\"Side 3:\"))\n",
    "if(s1==s2 and s1==s3):\n",
    "    print(\"Equilateral Triangle\")\n",
    "elif(s1==s2 or s2==s3 or s3==s1):\n",
    "    print(\"Isosceles Triangle\")\n",
    "else:\n",
    "    print(\"Scalene Triangle\")\n"
   ]
  },
  {
   "cell_type": "markdown",
   "id": "92d6d7c6",
   "metadata": {},
   "source": [
    "Valid Triangle"
   ]
  },
  {
   "cell_type": "code",
   "execution_count": 27,
   "id": "79d8182e",
   "metadata": {},
   "outputs": [
    {
     "name": "stdout",
     "output_type": "stream",
     "text": [
      "Invalid Triangle\n"
     ]
    }
   ],
   "source": [
    "s1=int(input(\"Side 1:\"))\n",
    "s2=int(input(\"Side 2:\"))\n",
    "s3=int(input(\"Side 3:\"))\n",
    "if((s1+s2)>s3 and (s1+s3)>s2 and (s2+s3)>s1):\n",
    "    print(\"Valid Triangle\")\n",
    "else:\n",
    "    print(\"Invalid Triangle\")"
   ]
  },
  {
   "cell_type": "markdown",
   "id": "e955732f",
   "metadata": {},
   "source": [
    "WAP which take number from user and check whether it is prime or not"
   ]
  },
  {
   "cell_type": "code",
   "execution_count": null,
   "id": "72cfc4bb",
   "metadata": {},
   "outputs": [
    {
     "name": "stdout",
     "output_type": "stream",
     "text": [
      "Not Prime\n"
     ]
    }
   ],
   "source": [
    "n=int(input(\"Enter the number:\"))\n",
    "i=2\n",
    "while(i<n**0.5): #Square root is taken as if it checks till half then implicitly rest number are of sam as 1*5=5*1+5\n",
    "    if(n%i==0):\n",
    "        print(\"Not Prime\")\n",
    "        break\n",
    "    i+=1\n",
    "else:\n",
    "    print(\"Prime\")\n"
   ]
  },
  {
   "cell_type": "markdown",
   "id": "371f15d9",
   "metadata": {},
   "source": [
    "WAP which take two number as input and find the LCM of both the number"
   ]
  },
  {
   "cell_type": "code",
   "execution_count": 61,
   "id": "c465c8eb",
   "metadata": {},
   "outputs": [
    {
     "name": "stdout",
     "output_type": "stream",
     "text": [
      "LCM is  35\n"
     ]
    }
   ],
   "source": [
    "n1=int(input(\"Number 1:\"))\n",
    "n2=int(input(\"Number 2:\"))\n",
    "i=max(n1,n2)\n",
    "while(i<=n1*n2):\n",
    "    if(i%n1==0 and i%n2==0):\n",
    "        print(\"LCM is \",i)\n",
    "        break\n",
    "    i+=1\n",
    "\n"
   ]
  },
  {
   "cell_type": "markdown",
   "id": "1201c49b",
   "metadata": {},
   "source": [
    "WAP which take two number as input and find the HCF of both the number"
   ]
  },
  {
   "cell_type": "code",
   "execution_count": 4,
   "id": "ca118223",
   "metadata": {},
   "outputs": [
    {
     "name": "stdout",
     "output_type": "stream",
     "text": [
      "HCF is  12\n"
     ]
    }
   ],
   "source": [
    "n1=int(input(\"Number 1:\"))\n",
    "n2=int(input(\"Number 2:\"))\n",
    "i=min(n1,n2)\n",
    "while(i<=n1 and i<=n2):\n",
    "    if(n1%i==0 and n2%i==0):\n",
    "        print(\"HCF is \",i)\n",
    "        break\n",
    "    i-=1"
   ]
  },
  {
   "cell_type": "markdown",
   "id": "25e88e70",
   "metadata": {},
   "source": [
    "For loop Question odd number print"
   ]
  },
  {
   "cell_type": "code",
   "execution_count": 75,
   "id": "d7ef1e97",
   "metadata": {},
   "outputs": [
    {
     "name": "stdout",
     "output_type": "stream",
     "text": [
      "1 3 5 7 9 11 13 15 17 19 "
     ]
    }
   ],
   "source": [
    "for i in range(1,20,2):\n",
    "    print(i ,end=\" \")"
   ]
  },
  {
   "cell_type": "markdown",
   "id": "9ef81950",
   "metadata": {},
   "source": [
    "sum of even and odd number using loop"
   ]
  },
  {
   "cell_type": "code",
   "execution_count": 76,
   "id": "c0791cc8",
   "metadata": {},
   "outputs": [
    {
     "name": "stdout",
     "output_type": "stream",
     "text": [
      "Even sum 110 odd sum 100 "
     ]
    }
   ],
   "source": [
    "even=0\n",
    "odd=0\n",
    "for i in range(1,21,1):\n",
    "    if(i%2==0):\n",
    "        even=even+i\n",
    "    else:\n",
    "        odd=odd+i\n",
    "print(\"Even sum\",even,\"odd sum\",odd,end=\" \")"
   ]
  },
  {
   "cell_type": "markdown",
   "id": "51a78ac9",
   "metadata": {},
   "source": [
    "WAP using for loop to calculate factor of a number"
   ]
  },
  {
   "cell_type": "code",
   "execution_count": 78,
   "id": "a8579f17",
   "metadata": {},
   "outputs": [
    {
     "name": "stdout",
     "output_type": "stream",
     "text": [
      "Factors are :\n",
      "1 5 "
     ]
    }
   ],
   "source": [
    "n=int(input(\"Enter number to know about its factors:\"))\n",
    "print(\"Factors are :\")\n",
    "for i in range(1,n+1,1):\n",
    "    if(n%i==0):\n",
    "        print(i,end=\" \")"
   ]
  },
  {
   "cell_type": "markdown",
   "id": "2730ee3f",
   "metadata": {},
   "source": [
    "WAP using for loop  to count odd and even factors of a number input by an user"
   ]
  },
  {
   "cell_type": "code",
   "execution_count": 84,
   "id": "cee21a57",
   "metadata": {},
   "outputs": [
    {
     "name": "stdout",
     "output_type": "stream",
     "text": [
      "Factors are :\n",
      "1 5 \n",
      "Count of even factor 0\n",
      "Count of odd factor 2\n"
     ]
    }
   ],
   "source": [
    "n=int(input(\"Enter number to know about its factors:\"))\n",
    "print(\"Factors are :\")\n",
    "ecount=0\n",
    "ocount=0\n",
    "for i in range(1,n+1,1):\n",
    "    if(n%i==0):\n",
    "        print(i,end=\" \")\n",
    "        if(i%2==0):\n",
    "            ecount+=1\n",
    "        else:\n",
    "            ocount+=1\n",
    "print()\n",
    "print(\"Count of even factor\",ecount)\n",
    "print(\"Count of odd factor\",ocount)\n"
   ]
  },
  {
   "cell_type": "markdown",
   "id": "53fac986",
   "metadata": {},
   "source": [
    "WAP using for loop to calculate LCM of two number\n"
   ]
  },
  {
   "cell_type": "code",
   "execution_count": 3,
   "id": "fe990850",
   "metadata": {},
   "outputs": [
    {
     "name": "stdout",
     "output_type": "stream",
     "text": [
      "LCM is  35\n"
     ]
    }
   ],
   "source": [
    "n1=int(input(\"Enter n1 :\"))\n",
    "n2=int(input(\"Enter n2 :\"))\n",
    "for i in range(max(n1,n2),n1*n2+1,1):\n",
    "    if(i%n1==0 and i%n2==0):\n",
    "        print(\"LCM is \",i)\n",
    "        break"
   ]
  },
  {
   "cell_type": "markdown",
   "id": "3f87cf06",
   "metadata": {},
   "source": [
    "WAP using for loop to calcuate HCF of two number"
   ]
  },
  {
   "cell_type": "code",
   "execution_count": 6,
   "id": "6a62b9f3",
   "metadata": {},
   "outputs": [
    {
     "name": "stdout",
     "output_type": "stream",
     "text": [
      "HCF is  12\n"
     ]
    }
   ],
   "source": [
    "n1=int(input(\"Enter n1 :\"))\n",
    "n2=int(input(\"Enter n2 :\"))\n",
    "for i in range(min(n1,n2),0,-1):\n",
    "    if(n1%i==0 and n2%i==0):\n",
    "        print(\"HCF is \",i)\n",
    "        break"
   ]
  },
  {
   "cell_type": "markdown",
   "id": "2cd8089a",
   "metadata": {},
   "source": [
    "WAP using for loop to print sum of odd number between 25 and 70"
   ]
  },
  {
   "cell_type": "code",
   "execution_count": 7,
   "id": "0a619333",
   "metadata": {},
   "outputs": [
    {
     "name": "stdout",
     "output_type": "stream",
     "text": [
      "Odd sum is  1081\n"
     ]
    }
   ],
   "source": [
    "sum=0\n",
    "for i in range(25,71,2):\n",
    "    sum+=i\n",
    "print(\"Odd sum is \",sum)"
   ]
  },
  {
   "cell_type": "markdown",
   "id": "beac7ed0",
   "metadata": {},
   "source": [
    "WAP using for loop to implement factorial\n"
   ]
  },
  {
   "cell_type": "code",
   "execution_count": 13,
   "id": "6bf36f6b",
   "metadata": {},
   "outputs": [
    {
     "name": "stdout",
     "output_type": "stream",
     "text": [
      "Factorial is  24\n"
     ]
    }
   ],
   "source": [
    "n=int(input(\"Enter number\"))\n",
    "fact=1\n",
    "for i in range(1,n+1,1):\n",
    "    fact*=i\n",
    "print(\"Factorial is \", fact)"
   ]
  }
 ],
 "metadata": {
  "kernelspec": {
   "display_name": "Python 3",
   "language": "python",
   "name": "python3"
  },
  "language_info": {
   "codemirror_mode": {
    "name": "ipython",
    "version": 3
   },
   "file_extension": ".py",
   "mimetype": "text/x-python",
   "name": "python",
   "nbconvert_exporter": "python",
   "pygments_lexer": "ipython3",
   "version": "3.13.2"
  }
 },
 "nbformat": 4,
 "nbformat_minor": 5
}
