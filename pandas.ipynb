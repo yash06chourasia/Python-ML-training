{
 "cells": [
  {
   "cell_type": "code",
   "execution_count": 1,
   "id": "c8ac41af",
   "metadata": {},
   "outputs": [
    {
     "name": "stdout",
     "output_type": "stream",
     "text": [
      "Collecting pandas\n",
      "  Downloading pandas-2.3.1-cp313-cp313-win_amd64.whl.metadata (19 kB)\n",
      "Requirement already satisfied: numpy>=1.26.0 in d:\\python\\lib\\site-packages (from pandas) (2.3.1)\n",
      "Requirement already satisfied: python-dateutil>=2.8.2 in c:\\users\\dell\\appdata\\roaming\\python\\python313\\site-packages (from pandas) (2.9.0.post0)\n",
      "Collecting pytz>=2020.1 (from pandas)\n",
      "  Downloading pytz-2025.2-py2.py3-none-any.whl.metadata (22 kB)\n",
      "Collecting tzdata>=2022.7 (from pandas)\n",
      "  Downloading tzdata-2025.2-py2.py3-none-any.whl.metadata (1.4 kB)\n",
      "Requirement already satisfied: six>=1.5 in c:\\users\\dell\\appdata\\roaming\\python\\python313\\site-packages (from python-dateutil>=2.8.2->pandas) (1.17.0)\n",
      "Downloading pandas-2.3.1-cp313-cp313-win_amd64.whl (11.0 MB)\n",
      "   ---------------------------------------- 0.0/11.0 MB ? eta -:--:--\n",
      "   --- ------------------------------------ 1.0/11.0 MB 7.0 MB/s eta 0:00:02\n",
      "   ----- ---------------------------------- 1.6/11.0 MB 3.7 MB/s eta 0:00:03\n",
      "   ---------- ----------------------------- 2.9/11.0 MB 4.5 MB/s eta 0:00:02\n",
      "   ------------ --------------------------- 3.4/11.0 MB 4.3 MB/s eta 0:00:02\n",
      "   ---------------- ----------------------- 4.5/11.0 MB 4.2 MB/s eta 0:00:02\n",
      "   ------------------- -------------------- 5.2/11.0 MB 4.2 MB/s eta 0:00:02\n",
      "   --------------------- ------------------ 6.0/11.0 MB 4.1 MB/s eta 0:00:02\n",
      "   ------------------------ --------------- 6.8/11.0 MB 4.1 MB/s eta 0:00:02\n",
      "   -------------------------- ------------- 7.3/11.0 MB 3.8 MB/s eta 0:00:01\n",
      "   ----------------------------- ---------- 8.1/11.0 MB 3.8 MB/s eta 0:00:01\n",
      "   -------------------------------- ------- 8.9/11.0 MB 3.8 MB/s eta 0:00:01\n",
      "   ------------------------------------ --- 10.0/11.0 MB 3.8 MB/s eta 0:00:01\n",
      "   ---------------------------------------  10.7/11.0 MB 3.8 MB/s eta 0:00:01\n",
      "   ---------------------------------------- 11.0/11.0 MB 3.7 MB/s eta 0:00:00\n",
      "Downloading pytz-2025.2-py2.py3-none-any.whl (509 kB)\n",
      "Downloading tzdata-2025.2-py2.py3-none-any.whl (347 kB)\n",
      "Installing collected packages: pytz, tzdata, pandas\n",
      "Successfully installed pandas-2.3.1 pytz-2025.2 tzdata-2025.2\n"
     ]
    },
    {
     "name": "stderr",
     "output_type": "stream",
     "text": [
      "\n",
      "[notice] A new release of pip is available: 24.3.1 -> 25.1.1\n",
      "[notice] To update, run: python.exe -m pip install --upgrade pip\n"
     ]
    }
   ],
   "source": [
    "! pip install pandas"
   ]
  },
  {
   "cell_type": "code",
   "execution_count": 2,
   "id": "7176e119",
   "metadata": {},
   "outputs": [],
   "source": [
    "import pandas as pd \n",
    "import numpy as np"
   ]
  },
  {
   "cell_type": "code",
   "execution_count": 5,
   "id": "bc90ef28",
   "metadata": {},
   "outputs": [
    {
     "name": "stdout",
     "output_type": "stream",
     "text": [
      "0     2\n",
      "1     3\n",
      "2     4\n",
      "3     6\n",
      "4     3\n",
      "5     5\n",
      "6     7\n",
      "7    76\n",
      "dtype: int64\n",
      "RangeIndex(start=0, stop=8, step=1)\n"
     ]
    }
   ],
   "source": [
    "series1 = pd.Series([2,3,4,6,3,5,7,76])\n",
    "print(series1)\n",
    "print(series1.index)"
   ]
  },
  {
   "cell_type": "code",
   "execution_count": 6,
   "id": "e0369867",
   "metadata": {},
   "outputs": [
    {
     "name": "stdout",
     "output_type": "stream",
     "text": [
      "m         1\n",
      "y      2024\n",
      "d    sunday\n",
      "dtype: object\n",
      "y      2024\n",
      "m         1\n",
      "d    sunday\n",
      "dtype: object\n"
     ]
    }
   ],
   "source": [
    "dicat = {\"m\":1,\"y\":2024,\"d\":\"sunday\"}\n",
    "series3 = pd.Series(dicat)\n",
    "print(series3)\n",
    "\n",
    "series4 = pd.Series(dicat,index=[\"y\",\"m\",\"d\"])\n",
    "print(series4)"
   ]
  },
  {
   "cell_type": "code",
   "execution_count": 7,
   "id": "85ff2055",
   "metadata": {},
   "outputs": [
    {
     "name": "stdout",
     "output_type": "stream",
     "text": [
      "a   -0.742412\n",
      "b    0.679210\n",
      "c    0.997833\n",
      "d   -0.209761\n",
      "dtype: float64\n",
      "Index(['a', 'b', 'c', 'd'], dtype='object')\n"
     ]
    }
   ],
   "source": [
    "series1 = pd.Series(np.random.randn(4),index = [\"a\",\"b\",\"c\",\"d\"])\n",
    "print(series1)\n",
    "print(series1.index)"
   ]
  },
  {
   "cell_type": "code",
   "execution_count": 8,
   "id": "ce19ce20",
   "metadata": {},
   "outputs": [
    {
     "name": "stdout",
     "output_type": "stream",
     "text": [
      "creating series from scaler value\n",
      "a    8\n",
      "b    8\n",
      "c    8\n",
      "d    8\n",
      "dtype: int64\n"
     ]
    }
   ],
   "source": [
    "print(\"creating series from scaler value\")\n",
    "scl = pd.Series(8,index=['a','b','c','d'])\n",
    "print(scl)"
   ]
  },
  {
   "cell_type": "code",
   "execution_count": 9,
   "id": "4a23510c",
   "metadata": {},
   "outputs": [
    {
     "name": "stdout",
     "output_type": "stream",
     "text": [
      "a   -0.742412\n",
      "b    0.679210\n",
      "c    0.997833\n",
      "d   -0.209761\n",
      "dtype: float64\n"
     ]
    }
   ],
   "source": [
    "print(series1)"
   ]
  },
  {
   "cell_type": "code",
   "execution_count": 10,
   "id": "82384c1a",
   "metadata": {},
   "outputs": [
    {
     "name": "stdout",
     "output_type": "stream",
     "text": [
      "mean 0.18121756416641538\n",
      "\n",
      " median 0.23472465124967276\n",
      "\n",
      " maximum 0.9978327440833344\n",
      "\n",
      " minimum -0.7424117899170184\n"
     ]
    }
   ],
   "source": [
    "print(\"mean\",series1.mean())\n",
    "\n",
    "print(\"\\n median\",series1.median())\n",
    "\n",
    "print(\"\\n maximum\",series1.max())\n",
    "\n",
    "print(\"\\n minimum\",series1.min())"
   ]
  },
  {
   "cell_type": "code",
   "execution_count": 11,
   "id": "83920cf6",
   "metadata": {},
   "outputs": [
    {
     "name": "stdout",
     "output_type": "stream",
     "text": [
      " \n",
      " standard deviation: 0.8001693242096558\n",
      "\n",
      " sum: 0.7248702566656615\n"
     ]
    }
   ],
   "source": [
    "print(\" \\n standard deviation:\",series1.std())\n",
    "\n",
    "print(\"\\n sum:\",series1.sum())"
   ]
  },
  {
   "cell_type": "code",
   "execution_count": 12,
   "id": "e1081178",
   "metadata": {},
   "outputs": [
    {
     "name": "stdout",
     "output_type": "stream",
     "text": [
      "\n",
      " series2\n",
      "0     1\n",
      "1    10\n",
      "2     5\n",
      "3    17\n",
      "4     9\n",
      "dtype: int64\n",
      "\n",
      " sum 42\n",
      "\n",
      " sorted values\n",
      "0     1\n",
      "2     5\n",
      "4     9\n",
      "1    10\n",
      "3    17\n",
      "dtype: int64\n",
      "\n",
      " sorted indexes\n",
      "0     1\n",
      "1    10\n",
      "2     5\n",
      "3    17\n",
      "4     9\n",
      "dtype: int64\n"
     ]
    }
   ],
   "source": [
    "series2 = pd.Series([1,10,5,17,9])\n",
    "print('\\n series2')\n",
    "print(series2)\n",
    "print('\\n sum',series2.sum())\n",
    "print('\\n sorted values')\n",
    "print(series2.sort_values())\n",
    "print('\\n sorted indexes')\n",
    "print(series2.sort_index())"
   ]
  },
  {
   "cell_type": "code",
   "execution_count": 15,
   "id": "5b088782",
   "metadata": {},
   "outputs": [
    {
     "name": "stdout",
     "output_type": "stream",
     "text": [
      "orginal series\n",
      "a    1\n",
      "b    2\n",
      "c    3\n",
      "d    4\n",
      "dtype: int64\n",
      "\n",
      "Addition\n",
      "a    2\n",
      "b    4\n",
      "c    6\n",
      "d    8\n",
      "dtype: int64\n",
      "\n",
      " Addition with non_matched labels\n",
      "a    NaN\n",
      "b    4.0\n",
      "c    6.0\n",
      "d    NaN\n",
      "dtype: float64\n",
      "\n",
      " Multiplications\n",
      "a     1\n",
      "b     4\n",
      "c     9\n",
      "d    16\n",
      "dtype: int64\n",
      "\n",
      " more mathematical operations\n",
      "a    0\n",
      "b    0\n",
      "c    0\n",
      "d    0\n",
      "dtype: int64\n",
      "a    0.5\n",
      "b    1.0\n",
      "c    1.5\n",
      "d    2.0\n",
      "dtype: float64\n",
      "a     1\n",
      "b     4\n",
      "c     9\n",
      "d    16\n",
      "dtype: int64\n"
     ]
    }
   ],
   "source": [
    "#create a series \n",
    "s1 = pd.Series([1,2,3,4],index = ['a','b','c','d'])\n",
    "print(\"orginal series\")\n",
    "print(s1)\n",
    "#addition\n",
    "print(\"\\nAddition\")\n",
    "print(s1+s1)\n",
    "# addition with non-matched labels\n",
    "print('\\n Addition with non_matched labels')\n",
    "print(s1[1:]+s1[:-1])\n",
    "# multiplications\n",
    "print(\"\\n Multiplications\")\n",
    "print(s1*s1)\n",
    "#more mathematical operations\n",
    "print(\"\\n more mathematical operations\")\n",
    "print(s1-s1)\n",
    "\n",
    "print(s1/2)\n",
    "print(s1**2)"
   ]
  }
 ],
 "metadata": {
  "kernelspec": {
   "display_name": "Python 3",
   "language": "python",
   "name": "python3"
  },
  "language_info": {
   "codemirror_mode": {
    "name": "ipython",
    "version": 3
   },
   "file_extension": ".py",
   "mimetype": "text/x-python",
   "name": "python",
   "nbconvert_exporter": "python",
   "pygments_lexer": "ipython3",
   "version": "3.13.2"
  }
 },
 "nbformat": 4,
 "nbformat_minor": 5
}
