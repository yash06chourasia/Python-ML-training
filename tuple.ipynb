{
 "cells": [
  {
   "cell_type": "code",
   "execution_count": 6,
   "id": "b4c2d8a7",
   "metadata": {},
   "outputs": [
    {
     "name": "stdout",
     "output_type": "stream",
     "text": [
      "()\n",
      "<class 'tuple'>\n",
      "(91, 2, 3.4, 'Hello')\n"
     ]
    }
   ],
   "source": [
    "tpl=()\n",
    "tp=tuple()\n",
    "tp1=(91,2,3.4,\"Hello\")\n",
    "print(tpl,type(tp),tp1 ,sep=\"\\n\")"
   ]
  },
  {
   "cell_type": "code",
   "execution_count": 10,
   "id": "2fd84ceb",
   "metadata": {},
   "outputs": [
    {
     "name": "stdout",
     "output_type": "stream",
     "text": [
      "<class 'str'>\n",
      "<class 'tuple'>\n",
      "<class 'tuple'>\n"
     ]
    }
   ],
   "source": [
    "tpl=('hi')\n",
    "print(type(tpl))\n",
    "tpl=(5,)\n",
    "print(type(tpl))\n",
    "tpl=5,\n",
    "print(type(tpl))"
   ]
  },
  {
   "cell_type": "code",
   "execution_count": 18,
   "id": "2887d5a0",
   "metadata": {},
   "outputs": [
    {
     "name": "stdout",
     "output_type": "stream",
     "text": [
      "0\n",
      "2\n"
     ]
    }
   ],
   "source": [
    "tpl=(1,2,3,4,5,6,7,2,3,5,6,1)\n",
    "print(tpl.index(1))\n",
    "print(tpl.count(6))\n"
   ]
  },
  {
   "cell_type": "code",
   "execution_count": 23,
   "id": "e652913b",
   "metadata": {},
   "outputs": [
    {
     "name": "stdout",
     "output_type": "stream",
     "text": [
      "1911073184864\n",
      "1911073216000\n",
      "(2, 3, 4, 5, 7, 8)\n"
     ]
    }
   ],
   "source": [
    "tpl=(2,3,4,5)\n",
    "print(id(tpl))\n",
    "tpl+=(7,8) \n",
    "print(id(tpl))\n",
    "print(tpl)"
   ]
  },
  {
   "cell_type": "code",
   "execution_count": 28,
   "id": "bd7ad511",
   "metadata": {},
   "outputs": [
    {
     "name": "stdout",
     "output_type": "stream",
     "text": [
      "(2, 4, 6, 8)\n"
     ]
    }
   ],
   "source": [
    "x=(2,3,4,5,6,7,8)\n",
    "y=list(x)\n",
    "for i in y:\n",
    "    if i%2!=0:\n",
    "        y.remove(i)\n",
    "x=tuple(y)\n",
    "print(x)\n"
   ]
  },
  {
   "cell_type": "code",
   "execution_count": 30,
   "id": "5acc95c3",
   "metadata": {},
   "outputs": [
    {
     "name": "stdout",
     "output_type": "stream",
     "text": [
      "1911073218112\n",
      "1911073323056\n",
      "(2, 4, 6, 8)\n"
     ]
    }
   ],
   "source": [
    "x=(2,3,4,5,6,7,8)\n",
    "print(id(x))\n",
    "lst=[i for i in x if i%2==0]\n",
    "x=tuple(lst)\n",
    "print(id(x))\n",
    "print(x)"
   ]
  }
 ],
 "metadata": {
  "kernelspec": {
   "display_name": "Python 3",
   "language": "python",
   "name": "python3"
  },
  "language_info": {
   "codemirror_mode": {
    "name": "ipython",
    "version": 3
   },
   "file_extension": ".py",
   "mimetype": "text/x-python",
   "name": "python",
   "nbconvert_exporter": "python",
   "pygments_lexer": "ipython3",
   "version": "3.13.2"
  }
 },
 "nbformat": 4,
 "nbformat_minor": 5
}
