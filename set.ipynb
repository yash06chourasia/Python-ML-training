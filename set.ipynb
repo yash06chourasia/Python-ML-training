{
 "cells": [
  {
   "cell_type": "code",
   "execution_count": null,
   "id": "d14c5739",
   "metadata": {},
   "outputs": [
    {
     "name": "stdout",
     "output_type": "stream",
     "text": [
      "<class 'set'>\n",
      "<class 'dict'>\n",
      "{1, 2, 3, 4, 5, 6, 3.5, 'hello'}\n"
     ]
    }
   ],
   "source": [
    "st=set() \n",
    "# empty set\n",
    "st1={}\n",
    "# empty dictionary\n",
    "print(type(st))\n",
    "print(type(st1))\n",
    "s={1,2,3,4,5,6,\"hello\",3.5,3}\n",
    "print(s)\n",
    "# Set is unordered and contains only unique elements"
   ]
  },
  {
   "cell_type": "code",
   "execution_count": 12,
   "id": "7a08f96b",
   "metadata": {},
   "outputs": [
    {
     "name": "stdout",
     "output_type": "stream",
     "text": [
      "{0, 1, 2, 3, 4, 5, 6, 7, 8, 9, 68, (1, 2, 3), 45, 59}\n"
     ]
    }
   ],
   "source": [
    "s={1,2,3,4,5,6,7}\n",
    "# SET OPERATION\n",
    "# to add single immutable  element\n",
    "s.add(8)\n",
    "s.add((1,2,3))\n",
    "# s,add([1,2])    as list is mutable it cannot be added\n",
    "s.update([1,2,4,59,0],(9,2,45,68))\n",
    "print(s)\n",
    "\n"
   ]
  },
  {
   "cell_type": "code",
   "execution_count": 20,
   "id": "f0ba712f",
   "metadata": {},
   "outputs": [
    {
     "name": "stdout",
     "output_type": "stream",
     "text": [
      "{1, 2, 3, 4, 5, 6, 7, 8, 9, 68, (1, 2, 3), 59}\n",
      "set()\n"
     ]
    },
    {
     "ename": "NameError",
     "evalue": "name 'x' is not defined",
     "output_type": "error",
     "traceback": [
      "\u001b[31m---------------------------------------------------------------------------\u001b[39m",
      "\u001b[31mNameError\u001b[39m                                 Traceback (most recent call last)",
      "\u001b[36mCell\u001b[39m\u001b[36m \u001b[39m\u001b[32mIn[20]\u001b[39m\u001b[32m, line 11\u001b[39m\n\u001b[32m      9\u001b[39m \u001b[38;5;28mprint\u001b[39m(x)\n\u001b[32m     10\u001b[39m \u001b[38;5;28;01mdel\u001b[39;00m(x)\n\u001b[32m---> \u001b[39m\u001b[32m11\u001b[39m \u001b[38;5;28mprint\u001b[39m(\u001b[43mx\u001b[49m)\n",
      "\u001b[31mNameError\u001b[39m: name 'x' is not defined"
     ]
    }
   ],
   "source": [
    "x={0, 1, 2, 3, 4, 5, 6, 7, 8, 9, 68, (1, 2, 3), 45, 59}\n",
    "x.remove(0)\n",
    "# x.remove(121)  show error if val is not present\n",
    "x.discard(45)\n",
    "x.discard(123)\n",
    "# it does not give error if val is not present\n",
    "print(x)\n",
    "x.clear()\n",
    "print(x)\n",
    "del(x)\n",
    "print(x)\n"
   ]
  },
  {
   "cell_type": "markdown",
   "id": "35d2aa63",
   "metadata": {},
   "source": [
    "WAP to input string from user and count unique words"
   ]
  },
  {
   "cell_type": "code",
   "execution_count": null,
   "id": "48e563e3",
   "metadata": {},
   "outputs": [
    {
     "name": "stdout",
     "output_type": "stream",
     "text": [
      "hi hii bye hi bi\n",
      "unique words are: {'hi', 'bi', 'bye', 'hii'}\n",
      "Unique words count: 4\n"
     ]
    }
   ],
   "source": [
    "s=str(input(\"Enter string\"))\n",
    "# print(len(set(s.split())))\n",
    "z=s.split()\n",
    "print(s)\n",
    "y=set(z)\n",
    "print(\"unique words are:\",y)\n",
    "print(\"Unique words count:\", len(y))"
   ]
  },
  {
   "cell_type": "code",
   "execution_count": 45,
   "id": "9f8e0a4d",
   "metadata": {},
   "outputs": [
    {
     "name": "stdout",
     "output_type": "stream",
     "text": [
      "['Hello', 'How', 'are', 'you', ',', 'How', 'are', 'they']\n",
      "Unique ordered elements of string in order is :\n",
      "['Hello', 'How', 'are', 'you', ',', 'they']\n"
     ]
    }
   ],
   "source": [
    "s=\"Hello How are you , How are they\"\n",
    "# output Hello How are you , they\n",
    "y=list(s.split())\n",
    "print(y)\n",
    "z=[]\n",
    "for i in y:\n",
    "    if(i not in z):\n",
    "         z.append(i)\n",
    "print(\"Unique ordered elements of string in order is :\")\n",
    "print(z)"
   ]
  }
 ],
 "metadata": {
  "kernelspec": {
   "display_name": "Python 3",
   "language": "python",
   "name": "python3"
  },
  "language_info": {
   "codemirror_mode": {
    "name": "ipython",
    "version": 3
   },
   "file_extension": ".py",
   "mimetype": "text/x-python",
   "name": "python",
   "nbconvert_exporter": "python",
   "pygments_lexer": "ipython3",
   "version": "3.13.2"
  }
 },
 "nbformat": 4,
 "nbformat_minor": 5
}
