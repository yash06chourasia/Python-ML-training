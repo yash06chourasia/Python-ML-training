{
 "cells": [
  {
   "cell_type": "markdown",
   "id": "a65990d9",
   "metadata": {},
   "source": [
    "Empty dictionary"
   ]
  },
  {
   "cell_type": "code",
   "execution_count": 6,
   "id": "8d634b05",
   "metadata": {},
   "outputs": [
    {
     "name": "stdout",
     "output_type": "stream",
     "text": [
      "{}\n",
      "<class 'dict'>\n",
      "{1: 'abc', 2: 'xyz'}\n",
      "{1: 'abc', 2: 'xyz'}\n",
      "{1: 'abc', 2: 'xyz'}\n",
      "{1: 'abc', 2: 'xyz'}\n",
      "{1: 'abc', 2: 'xyz'}\n"
     ]
    }
   ],
   "source": [
    "d={}\n",
    "print(d)\n",
    "print(type(d))\n",
    "dicty={1:\"abc\",2:'xyz'}\n",
    "print(dicty)\n",
    "s=dict([[1,'abc'],[2,'xyz']])\n",
    "print(s)\n",
    "s=dict([(1,'abc'),(2,'xyz')])\n",
    "print(s)\n",
    "s=dict([{1,'abc'},{2,'xyz'}])\n",
    "print(s)\n",
    "s=s=dict(([1,'abc'],[2,'xyz']))\n",
    "print(s)\n",
    "\n",
    "\n",
    "\n"
   ]
  },
  {
   "cell_type": "markdown",
   "id": "a8fdab80",
   "metadata": {},
   "source": [
    "Dictionary can be tuple of list , tuple of tuple , tuple of set , set of tuple , "
   ]
  },
  {
   "cell_type": "code",
   "execution_count": null,
   "id": "6a7a2612",
   "metadata": {},
   "outputs": [
    {
     "name": "stdout",
     "output_type": "stream",
     "text": [
      "frozenset({1, 2, 3, 4, 5, 6})\n"
     ]
    }
   ],
   "source": [
    "s={1,2,3,4,5,6,7}\n",
    "s1=frozenset([1,2,3,4,5,6])\n",
    "print(s1)"
   ]
  },
  {
   "cell_type": "code",
   "execution_count": 14,
   "id": "a1c5d90a",
   "metadata": {},
   "outputs": [
    {
     "name": "stdout",
     "output_type": "stream",
     "text": [
      "{1, 2, 3, 4, 5, 6, 7, 8}\n",
      "{3, 5}\n",
      "{1, 2, 4}\n",
      "{8, 6, 7}\n",
      "{1, 2, 4, 6, 7, 8}\n"
     ]
    }
   ],
   "source": [
    "s={1,2,3,4,5}\n",
    "r={5,3,6,7,8}\n",
    "# union of two set\n",
    "print(s|r)\n",
    "# intersection\n",
    "print(s & r)\n",
    "# difference\n",
    "print(s-r)\n",
    "print(r-s)\n",
    "# s.union(r)\n",
    "# s.intersection(r)\n",
    "print(s^r)\n"
   ]
  },
  {
   "cell_type": "markdown",
   "id": "34243994",
   "metadata": {},
   "source": [
    "keys -----------> unique , immutable , can be of mixed datatypes"
   ]
  },
  {
   "cell_type": "markdown",
   "id": "4fba9453",
   "metadata": {},
   "source": [
    "values---------->can be of anything , no restrictions"
   ]
  },
  {
   "cell_type": "code",
   "execution_count": null,
   "id": "ae79ac9a",
   "metadata": {},
   "outputs": [
    {
     "name": "stdout",
     "output_type": "stream",
     "text": [
      "20\n",
      "jbp\n",
      "aman\n",
      "{'name': 'yash', 'age': 20, 'address': 'jbp', 'degree': 'b.tech'}\n"
     ]
    }
   ],
   "source": [
    "dct={'name':'aman', 'age':20 ,'address':'jbp'};\n",
    "print(dct['age'])\n",
    "print(dct['address'])\n",
    "print(dct.get('name'))\n",
    "dct['name']='yash'\n",
    "dct['degree']='b.tech'\n",
    "print(dct)"
   ]
  },
  {
   "cell_type": "code",
   "execution_count": null,
   "id": "98f42327",
   "metadata": {},
   "outputs": [
    {
     "name": "stdout",
     "output_type": "stream",
     "text": [
      "{}\n"
     ]
    }
   ],
   "source": [
    "dct={'name':'aman', 'age':20 ,'address':'jbp','degree':'b.tech'}\n",
    "# y=dct.pop('name')\n",
    "# print(y)\n",
    "# print(dct.popitem())  it deletes last key value pair of dictionary\n",
    "# del(dct['name'])   it deletes the element without returning\n",
    "# clear delete all elements of dictinary while maintaining its preservance\n",
    "dct.clear()\n",
    "print(dct)\n",
    "\n"
   ]
  },
  {
   "cell_type": "code",
   "execution_count": 15,
   "id": "6a1e9d15",
   "metadata": {},
   "outputs": [
    {
     "name": "stdout",
     "output_type": "stream",
     "text": [
      "{3: 7, 8: 14, 12: 30, 13: 32}\n"
     ]
    }
   ],
   "source": [
    "x={3:7 , 8:9 , 12:25 , 13:32}\n",
    "x[8]+=5\n",
    "x[12]+=5\n",
    "print(x)"
   ]
  },
  {
   "cell_type": "code",
   "execution_count": 18,
   "id": "1f1f5ff0",
   "metadata": {},
   "outputs": [
    {
     "name": "stdout",
     "output_type": "stream",
     "text": [
      "{3: 4, 5: 3, 7: 2, 9: 2, 2: 1, 8: 1}\n"
     ]
    }
   ],
   "source": [
    "x=[3,5,3,7,9,2,5,8,3,7,9,3,5]\n",
    "dct={}\n",
    "for i in x:\n",
    "    dct[i]=x.count(i)\n",
    "print(dct)\n",
    "  \n"
   ]
  },
  {
   "cell_type": "code",
   "execution_count": 37,
   "id": "31bf0ddb",
   "metadata": {},
   "outputs": [
    {
     "name": "stdout",
     "output_type": "stream",
     "text": [
      "[1, 2, 3, 15, 5]\n",
      "[1, 2, 3, 14, 5]\n"
     ]
    }
   ],
   "source": [
    "x=[1,2,3,4,5]\n",
    "y=x.copy()\n",
    "# y=x\n",
    "x[3]=15\n",
    "y[3]=14\n",
    "print(x)\n",
    "print(y)"
   ]
  },
  {
   "cell_type": "code",
   "execution_count": 44,
   "id": "901c827b",
   "metadata": {},
   "outputs": [
    {
     "name": "stdout",
     "output_type": "stream",
     "text": [
      "{'Math': None, 'English': None, 'Hindi': None, 'Science': None}\n"
     ]
    }
   ],
   "source": [
    "subjects={}.fromkeys(['Math','English','Hindi','Science'])\n",
    "print(subjects)"
   ]
  },
  {
   "cell_type": "code",
   "execution_count": 47,
   "id": "4faea532",
   "metadata": {},
   "outputs": [
    {
     "name": "stdout",
     "output_type": "stream",
     "text": [
      "dict_keys([1, 2, 3])\n",
      "dict_values([1, 4, 9])\n",
      "dict_items([(1, 1), (2, 4), (3, 9)])\n"
     ]
    }
   ],
   "source": [
    "subjects={1:1,2:4,3:9}\n",
    "print(subjects.keys())\n",
    "print(subjects.values())\n",
    "print(subjects.items())"
   ]
  },
  {
   "cell_type": "code",
   "execution_count": 53,
   "id": "75e3a1fc",
   "metadata": {},
   "outputs": [
    {
     "name": "stdout",
     "output_type": "stream",
     "text": [
      "{3: 7, 8: 9, 12: 25, 13: 32}\n"
     ]
    }
   ],
   "source": [
    "x={3:7,8:9,12:25,13:32}\n",
    "# for k,v in x.items():\n",
    "#     if v%2==0:\n",
    "#         x[k]+=5\n",
    "#     else:\n",
    "#         x[k]-=5\n",
    "print(x)"
   ]
  },
  {
   "cell_type": "code",
   "execution_count": 55,
   "id": "3e1536cf",
   "metadata": {},
   "outputs": [
    {
     "name": "stdout",
     "output_type": "stream",
     "text": [
      "{3: 2, 4: 2, 5: 2, 6: 3}\n"
     ]
    }
   ],
   "source": [
    "x={3:[1,2,3,4,6],4:[7,8,9,10],5:[2,3,4,7,8],6:[1,3,5,2]}\n",
    "for k,v in x.items():\n",
    "    count=0\n",
    "    for i in v:\n",
    "        if i%2!=0:\n",
    "            count+=1\n",
    "    x[k]=count\n",
    "print(x)"
   ]
  },
  {
   "cell_type": "code",
   "execution_count": null,
   "id": "c865a0a5",
   "metadata": {},
   "outputs": [
    {
     "name": "stdout",
     "output_type": "stream",
     "text": [
      "{3: [2, 3, 4, 5, 7], 4: [8, 9, 10, 11], 5: [3, 4, 5, 8, 9], 6: [2, 4, 6, 3]}\n"
     ]
    }
   ],
   "source": [
    "x={3:[1,2,3,4,6],4:[7,8,9,10],5:[2,3,4,7,8],6:[1,3,5,2]}\n",
    "for k,v in x.items():\n",
    "    for i in range(len(v)):\n",
    "        v[i]=v[i]+1\n",
    "print(x)"
   ]
  },
  {
   "cell_type": "code",
   "execution_count": 9,
   "id": "3897a575",
   "metadata": {},
   "outputs": [
    {
     "name": "stdout",
     "output_type": "stream",
     "text": [
      "{3: [2, 3, 4, 5, 7], 4: [8, 9, 10, 11], 5: [3, 4, 5, 8, 9], 6: [2, 4, 6, 3]}\n"
     ]
    }
   ],
   "source": [
    "x={3:[1,2,3,4,6],4:[7,8,9,10],5:[2,3,4,7,8],6:[1,3,5,2]}\n",
    "\n",
    "for k,v in x.items():\n",
    "    x[k]=[i+1 for i in v]\n",
    "print(x)"
   ]
  },
  {
   "cell_type": "code",
   "execution_count": 10,
   "id": "37fb8cdd",
   "metadata": {},
   "outputs": [
    {
     "name": "stdout",
     "output_type": "stream",
     "text": [
      "{'c': 3, 'd': 4}\n"
     ]
    }
   ],
   "source": [
    "d={'a': 1,'b':2,'c':3,'d':4}\n",
    "new={k:v for k,v in d.items() if v>2}\n",
    "print(new)"
   ]
  },
  {
   "cell_type": "code",
   "execution_count": null,
   "id": "f203b4e4",
   "metadata": {},
   "outputs": [],
   "source": []
  }
 ],
 "metadata": {
  "kernelspec": {
   "display_name": "Python 3",
   "language": "python",
   "name": "python3"
  },
  "language_info": {
   "codemirror_mode": {
    "name": "ipython",
    "version": 3
   },
   "file_extension": ".py",
   "mimetype": "text/x-python",
   "name": "python",
   "nbconvert_exporter": "python",
   "pygments_lexer": "ipython3",
   "version": "3.13.2"
  }
 },
 "nbformat": 4,
 "nbformat_minor": 5
}
